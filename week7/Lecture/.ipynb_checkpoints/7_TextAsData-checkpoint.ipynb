{
 "cells": [
  {
   "cell_type": "markdown",
   "metadata": {},
   "source": [
    "# Recap API's and text as data\n",
    "\n",
    "## The Guardian API"
   ]
  },
  {
   "cell_type": "code",
   "execution_count": 2,
   "metadata": {},
   "outputs": [],
   "source": [
    "import time # allows us to do interesting things with time objects and the passage of time\n",
    "import json #allows us to interact with json objects (which is what a lot of APIs communciate in)\n",
    "import requests #allows us to make so-called http requests, i.e. the same thing you do whenever you launch facebook in a broswer\n",
    "import pandas as pd"
   ]
  },
  {
   "cell_type": "code",
   "execution_count": 13,
   "metadata": {},
   "outputs": [],
   "source": [
    "#writing own function to query API\n",
    "#https://towardsdatascience.com/discovering-powerful-data-the-guardian-news-api-into-python-for-nlp-1829b568fb0f\n",
    "\n",
    "def query_api(tag, page, from_date, api_key):\n",
    "    \"\"\"\n",
    "    Function to query the API for a particular tag\n",
    "    returns: a response from API\n",
    "    \"\"\"\n",
    "    response = requests.get(\"https://content.guardianapis.com/search?tag=\"\n",
    "                            + tag + \"&from-date=\" + from_date \n",
    "                            +\"&page=\" + str(page) + \"&page-size=200&api-key=\" + api_key)\n",
    "    return response\n",
    "\n",
    "response = query_api('money/energy', '1', '2024-03-01', 'e723ffce-dfd5-427e-b9b8-779f5efedb02')\n",
    "data = response.json()"
   ]
  },
  {
   "cell_type": "code",
   "execution_count": null,
   "metadata": {},
   "outputs": [],
   "source": [
    "data"
   ]
  },
  {
   "cell_type": "code",
   "execution_count": 15,
   "metadata": {},
   "outputs": [],
   "source": [
    "#How do we get the data structured?\n",
    "\n",
    "news_df = pd.DataFrame.from_dict(data['response']['results'])"
   ]
  },
  {
   "cell_type": "code",
   "execution_count": null,
   "metadata": {},
   "outputs": [],
   "source": [
    "news_df"
   ]
  },
  {
   "cell_type": "code",
   "execution_count": null,
   "metadata": {},
   "outputs": [],
   "source": []
  },
  {
   "cell_type": "code",
   "execution_count": null,
   "metadata": {},
   "outputs": [],
   "source": [
    "#write a function that checks if the article mentions Europe or EU in the title\n",
    "\n",
    "def check_europe(title):\n",
    "    "
   ]
  },
  {
   "cell_type": "code",
   "execution_count": null,
   "metadata": {},
   "outputs": [],
   "source": []
  }
 ],
 "metadata": {
  "kernelspec": {
   "display_name": "Python 3",
   "language": "python",
   "name": "python3"
  },
  "language_info": {
   "codemirror_mode": {
    "name": "ipython",
    "version": 3
   },
   "file_extension": ".py",
   "mimetype": "text/x-python",
   "name": "python",
   "nbconvert_exporter": "python",
   "pygments_lexer": "ipython3",
   "version": "3.9.1"
  }
 },
 "nbformat": 4,
 "nbformat_minor": 2
}

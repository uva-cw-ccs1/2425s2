{
 "cells": [
  {
   "cell_type": "markdown",
   "id": "8d401a2d",
   "metadata": {},
   "source": [
    "# Looking ahead\n",
    "\n",
    "Welcome to the final week of the course. This week we want to look ahead and focus on alternative ways to collect data and on infrastructure used for computational communication science.\n",
    "\n",
    "\n",
    "### Scraping\n",
    "\n",
    "Last week you learned how to collect your own data using API's. However, not all websites have API's services available. In such cases, scraping is often a good solution. \n",
    "\n",
    "*In this course, we do not expect you to be able to scrape websites, but want to share it with you as a possibility for e.g., your thesis in the future.*\n"
   ]
  },
  {
   "cell_type": "code",
   "execution_count": 1,
   "id": "c40103b4",
   "metadata": {},
   "outputs": [],
   "source": [
    "from lxml import html\n",
    "import requests\n",
    "# not strictly necessary, but for formatting later:\n",
    "import pandas as pd"
   ]
  },
  {
   "cell_type": "code",
   "execution_count": null,
   "id": "a24ddefa-42a2-4af2-9c0d-65c93da857be",
   "metadata": {},
   "outputs": [],
   "source": [
    "/html/body/h2[1]"
   ]
  },
  {
   "cell_type": "code",
   "execution_count": null,
   "id": "ad9a8721",
   "metadata": {},
   "outputs": [],
   "source": []
  },
  {
   "cell_type": "code",
   "execution_count": 2,
   "id": "efb09904",
   "metadata": {},
   "outputs": [],
   "source": [
    "#Getting all restaurants\n",
    "response = requests.get('https://cssbook.net/d/eat/index.html')\n",
    "\n",
    "tree = html.fromstring(response.text)"
   ]
  },
  {
   "cell_type": "code",
   "execution_count": 3,
   "id": "b322ab36-f00c-43eb-9696-f5cf47fb623b",
   "metadata": {},
   "outputs": [
    {
     "data": {
      "text/plain": [
       "<Element html at 0x132cbf2c0>"
      ]
     },
     "execution_count": 3,
     "metadata": {},
     "output_type": "execute_result"
    }
   ],
   "source": [
    "tree"
   ]
  },
  {
   "cell_type": "code",
   "execution_count": 4,
   "id": "25671b80-ba4b-45c8-b3a8-0f83b5efc0d1",
   "metadata": {},
   "outputs": [],
   "source": [
    "\n",
    "# get get the names\n",
    "cuisines = tree.xpath('/html/body/h2/text()')"
   ]
  },
  {
   "cell_type": "code",
   "execution_count": 5,
   "id": "f6864081",
   "metadata": {},
   "outputs": [
    {
     "data": {
      "text/plain": [
       "list"
      ]
     },
     "execution_count": 5,
     "metadata": {},
     "output_type": "execute_result"
    }
   ],
   "source": [
    "type(cuisines)"
   ]
  },
  {
   "cell_type": "code",
   "execution_count": 6,
   "id": "5779b269-f710-4d04-8208-9eaef3bf1356",
   "metadata": {},
   "outputs": [
    {
     "data": {
      "text/plain": [
       "['Italian cuisine', 'Indian cuisine']"
      ]
     },
     "execution_count": 6,
     "metadata": {},
     "output_type": "execute_result"
    }
   ],
   "source": [
    "cuisines"
   ]
  },
  {
   "cell_type": "code",
   "execution_count": 7,
   "id": "793133df",
   "metadata": {},
   "outputs": [],
   "source": [
    "#Getting real data\n",
    "response = requests.get('https://www.politifact.com/factchecks/list/?ruling=true')\n",
    "\n",
    "tree = html.fromstring(response.text)\n",
    "\n",
    "# get get the names\n",
    "names = tree.xpath('//*[@id=\"top\"]/main/section[3]/article/section/div/article/ul/li/article/div[1]/div[2]/a/text()')"
   ]
  },
  {
   "cell_type": "code",
   "execution_count": 8,
   "id": "3873f4be-1077-4a0f-b907-dc83394e18fd",
   "metadata": {},
   "outputs": [
    {
     "data": {
      "text/plain": [
       "['\\n                    Cavalier Johnson\\n                  ',\n",
       " '\\n                    Joel Kitchens\\n                  ',\n",
       " '\\n                    Susan Crawford\\n                  ',\n",
       " '\\n                     Common Cause\\n                  ',\n",
       " '\\n                    Robin Vos\\n                  ',\n",
       " '\\n                    Sara Jacobs\\n                  ',\n",
       " '\\n                    Jay Rothman\\n                  ',\n",
       " '\\n                    Kamala Harris\\n                  ',\n",
       " '\\n                    Social Media\\n                  ',\n",
       " '\\n                    Kamala Harris\\n                  ',\n",
       " '\\n                    Robert  Cowles\\n                  ',\n",
       " '\\n                    Elizabeth Warren\\n                  ',\n",
       " '\\n                    Tim Walz\\n                  ',\n",
       " '\\n                    JD Vance\\n                  ',\n",
       " '\\n                    Byron Donalds\\n                  ',\n",
       " '\\n                    Byron Donalds\\n                  ',\n",
       " '\\n                    Tammy Baldwin\\n                  ',\n",
       " '\\n                    Kamala Harris\\n                  ',\n",
       " '\\n                    Kamala Harris\\n                  ',\n",
       " '\\n                    Byron Donalds\\n                  ',\n",
       " '\\n                    David Crowley\\n                  ',\n",
       " '\\n                    Tony Evers\\n                  ',\n",
       " '\\n                    Social Media\\n                  ',\n",
       " '\\n                    Joe Biden\\n                  ',\n",
       " '\\n                    Tyler August\\n                  ',\n",
       " '\\n                    Mark Pocan\\n                  ',\n",
       " '\\n                    Lisa Subeck\\n                  ',\n",
       " '\\n                    Brian Schimming\\n                  ',\n",
       " '\\n                    Tammy Baldwin\\n                  ',\n",
       " '\\n                    Sarah Godlewski\\n                  ']"
      ]
     },
     "execution_count": 8,
     "metadata": {},
     "output_type": "execute_result"
    }
   ],
   "source": [
    "names"
   ]
  },
  {
   "cell_type": "code",
   "execution_count": null,
   "id": "0e336ab0-e0bf-42ac-a07d-085e5a7c1489",
   "metadata": {},
   "outputs": [],
   "source": []
  },
  {
   "cell_type": "code",
   "execution_count": null,
   "id": "5e68669f-b14c-4eab-8707-07cbdbbe5fc3",
   "metadata": {},
   "outputs": [],
   "source": []
  },
  {
   "cell_type": "markdown",
   "id": "021ffc86",
   "metadata": {},
   "source": [
    "One possible XPATH (without the/text() at the end):\n",
    "//*[@id=\"top\"]/main/section[3]/article/section/div/article/ul/li[4]/article/div[1]/div[2]/a"
   ]
  },
  {
   "cell_type": "code",
   "execution_count": null,
   "id": "11b77ff2",
   "metadata": {},
   "outputs": [],
   "source": [
    "names"
   ]
  },
  {
   "cell_type": "code",
   "execution_count": 10,
   "id": "e3a0dcf9",
   "metadata": {},
   "outputs": [],
   "source": [
    "response = requests.get('https://www.politifact.com/factchecks/list/?ruling=true')\n",
    "\n",
    "tree = html.fromstring(response.text)\n",
    "\n",
    "# get get the names\n",
    "facts = tree.xpath('//*[@id=\"top\"]/main/section[3]/article/section/div/article/ul/li/article/div[2]/div/div[1]/div/a/text()')"
   ]
  },
  {
   "cell_type": "code",
   "execution_count": 11,
   "id": "cc96f561",
   "metadata": {},
   "outputs": [
    {
     "data": {
      "text/plain": [
       "['\\n                        \\n                        “After the referendum, Milwaukee Public Schools has a larger tax levy than the City of Milwaukee.”\\n                        \\n                      ',\n",
       " '\\n                        \\n                        “90% of the (school) districts in Wisconsin already have a policy” banning cellphones during class time.\\n                        \\n                      ',\n",
       " '\\n                        \\n                        Wisconsin does not “require judges to automatically recuse just because they have done some kind of legal work in the past as a lawyer.”\\n                        \\n                      ',\n",
       " '\\n                        \\n                        Wisconsin makes it more difficult for its citizens to vote than almost any state in the nation.\\n                        \\n                      ',\n",
       " '\\n                        \\n                        Voter ID \"is supported, if you look at any poll, by 70 to 80% of the public.\"\\n                        \\n                      ',\n",
       " '\\n                        \\n                        Government shutdowns in 2013 and 2018 “cost our economy billions of dollars each.”\\n                        \\n                      ',\n",
       " '\\n                        \\n                        “The Universities of Wisconsin are 43rd out of 50 states in the nation, in terms of public support for our universities. The $855 million (budget request) gets us up to average.”\\n                        \\n                      ',\n",
       " '\\n                        \\n                        \"As of today, we have cut the flow of immigration by over half.\"\\n                        \\n                      ',\n",
       " '\\n                        \\n                        Project 2025 would “cut” the Federal Emergency Management Agency and “kill federal-backed flood insurance.”\\n                        \\n                      ',\n",
       " '\\n                        \\n                        “Donald Trump said he was going to allow Medicare to negotiate drug prices. He never did. We did.”\\n                        \\n                      ',\n",
       " '\\n                        \\n                        “The most recent State Budget increased funding for the Department of Tourism by 98 percent.”\\n                        \\n                      ',\n",
       " '\\n                        \\n                        “JD Vance actually sent a letter last year to the Department of Justice saying, ‘enforce the Comstock Act.’”\\n                        \\n                      ',\n",
       " '\\n                        \\n                        JD Vance “literally wrote the foreword for the architect of the Project 2025 agenda.\"\\n                        \\n                      ',\n",
       " '\\n                        \\n                        Says Tim Walz said he carried weapons in war, but “he has not spent a day in a combat zone.”\\n                        \\n                      ',\n",
       " '\\n                        \\n                        \"Tim Walz firmó una ley para dar licencia de conducir a inmigrantes ilegales en Minnesota\".\\n                        \\n                      ',\n",
       " '\\n                        \\n                        \"Tim Walz signed into law driver\\'s licenses for illegal immigrants in Minnesota.\"\\n                        \\n                      ',\n",
       " '\\n                        \\n                        Eric Hovde “wants to repeal the Affordable Care Act, and kick millions off their health insurance.”\\n                        \\n                      ',\n",
       " '\\n                        \\n                        Project 2025 would “end Head Start.”\\n                        \\n                      ',\n",
       " '\\n                        \\n                        Black women in the U.S. are “three to four times more likely to die in connection with childbirth than other women.\"\\n                        \\n                      ',\n",
       " '\\n                        \\n                        Kamala Harris \"co-sponsored, fully sponsored\" the Green New Deal.\\n                        \\n                      ',\n",
       " '\\n                        \\n                        “Under (the Biden) administration we have witnessed the fastest growth of Black-owned small businesses in more than 30 years.”\\n                        \\n                      ',\n",
       " '\\n                        \\n                        Wisconsin had a “record-breaking year” for tourism in 2023.\\n                        \\n                      ',\n",
       " '\\n                        \\n                        Under federal law, former President Donald Trump’s “felony convictions mean he can no longer possess guns.”\\n                        \\n                      ',\n",
       " '\\n                        \\n                        “Violent crime is near a record 50-year low.”\\n                        \\n                      ',\n",
       " '\\n                        \\n                        “Nearly 90% of all UW graduates stay in Wisconsin 5 years after they graduate.”\\n                        \\n                      ',\n",
       " '\\n                        \\n                        “We passed 27 bills last year, which is the fewest since the Depression.”\\n                        \\n                      ',\n",
       " '\\n                        \\n                        “The United States is an outlier, one of only about half a dozen countries, without any guarantee of paid leave for new parents and/or other health care needs.”\\n                        \\n                      ',\n",
       " '\\n                        \\n                        “We’ve had 12 elections in 24 years in Wisconsin that have been decided by less than 30,000 votes.”\\n                        \\n                      ',\n",
       " '\\n                        \\n                        “We’re facing situations these days where you have to have two officers in the evidence room in case there’s an accidental (fentanyl) exposure.”\\n                        \\n                      ',\n",
       " '\\n                        \\n                        “When it comes to how many votes (President) Joe Biden won, it was literally less than a few votes per ward.”\\n                        \\n                      ']"
      ]
     },
     "execution_count": 11,
     "metadata": {},
     "output_type": "execute_result"
    }
   ],
   "source": [
    "facts"
   ]
  },
  {
   "cell_type": "code",
   "execution_count": 12,
   "id": "a5f2435b-16cc-47e9-a10e-0adc51f08c30",
   "metadata": {},
   "outputs": [
    {
     "name": "stdout",
     "output_type": "stream",
     "text": [
      "“After the referendum, Milwaukee Public Schools has a larger tax levy than the City of Milwaukee.”\n",
      "“90% of the (school) districts in Wisconsin already have a policy” banning cellphones during class time.\n",
      "Wisconsin does not “require judges to automatically recuse just because they have done some kind of legal work in the past as a lawyer.”\n",
      "Wisconsin makes it more difficult for its citizens to vote than almost any state in the nation.\n",
      "Voter ID \"is supported, if you look at any poll, by 70 to 80% of the public.\"\n",
      "Government shutdowns in 2013 and 2018 “cost our economy billions of dollars each.”\n",
      "“The Universities of Wisconsin are 43rd out of 50 states in the nation, in terms of public support for our universities. The $855 million (budget request) gets us up to average.”\n",
      "\"As of today, we have cut the flow of immigration by over half.\"\n",
      "Project 2025 would “cut” the Federal Emergency Management Agency and “kill federal-backed flood insurance.”\n",
      "“Donald Trump said he was going to allow Medicare to negotiate drug prices. He never did. We did.”\n",
      "“The most recent State Budget increased funding for the Department of Tourism by 98 percent.”\n",
      "“JD Vance actually sent a letter last year to the Department of Justice saying, ‘enforce the Comstock Act.’”\n",
      "JD Vance “literally wrote the foreword for the architect of the Project 2025 agenda.\"\n",
      "Says Tim Walz said he carried weapons in war, but “he has not spent a day in a combat zone.”\n",
      "\"Tim Walz firmó una ley para dar licencia de conducir a inmigrantes ilegales en Minnesota\".\n",
      "\"Tim Walz signed into law driver's licenses for illegal immigrants in Minnesota.\"\n",
      "Eric Hovde “wants to repeal the Affordable Care Act, and kick millions off their health insurance.”\n",
      "Project 2025 would “end Head Start.”\n",
      "Black women in the U.S. are “three to four times more likely to die in connection with childbirth than other women.\"\n",
      "Kamala Harris \"co-sponsored, fully sponsored\" the Green New Deal.\n",
      "“Under (the Biden) administration we have witnessed the fastest growth of Black-owned small businesses in more than 30 years.”\n",
      "Wisconsin had a “record-breaking year” for tourism in 2023.\n",
      "Under federal law, former President Donald Trump’s “felony convictions mean he can no longer possess guns.”\n",
      "“Violent crime is near a record 50-year low.”\n",
      "“Nearly 90% of all UW graduates stay in Wisconsin 5 years after they graduate.”\n",
      "“We passed 27 bills last year, which is the fewest since the Depression.”\n",
      "“The United States is an outlier, one of only about half a dozen countries, without any guarantee of paid leave for new parents and/or other health care needs.”\n",
      "“We’ve had 12 elections in 24 years in Wisconsin that have been decided by less than 30,000 votes.”\n",
      "“We’re facing situations these days where you have to have two officers in the evidence room in case there’s an accidental (fentanyl) exposure.”\n",
      "“When it comes to how many votes (President) Joe Biden won, it was literally less than a few votes per ward.”\n"
     ]
    }
   ],
   "source": [
    "for fact in facts:\n",
    "    print(fact.strip())"
   ]
  },
  {
   "cell_type": "code",
   "execution_count": 13,
   "id": "30a21fb0",
   "metadata": {},
   "outputs": [],
   "source": [
    "# some cleanup\n",
    "\n",
    "facts = [fact.strip() for fact in facts]\n",
    "names = [name.strip() for name in names]"
   ]
  },
  {
   "cell_type": "code",
   "execution_count": 15,
   "id": "f9c00654-3fff-45f0-b160-6fd68f90b513",
   "metadata": {},
   "outputs": [
    {
     "data": {
      "text/plain": [
       "['Cavalier Johnson',\n",
       " 'Joel Kitchens',\n",
       " 'Susan Crawford',\n",
       " 'Common Cause',\n",
       " 'Robin Vos',\n",
       " 'Sara Jacobs',\n",
       " 'Jay Rothman',\n",
       " 'Kamala Harris',\n",
       " 'Social Media',\n",
       " 'Kamala Harris',\n",
       " 'Robert  Cowles',\n",
       " 'Elizabeth Warren',\n",
       " 'Tim Walz',\n",
       " 'JD Vance',\n",
       " 'Byron Donalds',\n",
       " 'Byron Donalds',\n",
       " 'Tammy Baldwin',\n",
       " 'Kamala Harris',\n",
       " 'Kamala Harris',\n",
       " 'Byron Donalds',\n",
       " 'David Crowley',\n",
       " 'Tony Evers',\n",
       " 'Social Media',\n",
       " 'Joe Biden',\n",
       " 'Tyler August',\n",
       " 'Mark Pocan',\n",
       " 'Lisa Subeck',\n",
       " 'Brian Schimming',\n",
       " 'Tammy Baldwin',\n",
       " 'Sarah Godlewski']"
      ]
     },
     "execution_count": 15,
     "metadata": {},
     "output_type": "execute_result"
    }
   ],
   "source": [
    "names"
   ]
  },
  {
   "cell_type": "code",
   "execution_count": 16,
   "id": "e4633d62",
   "metadata": {},
   "outputs": [],
   "source": [
    "df = pd.DataFrame(\n",
    "    {'names': names,\n",
    "     'facts': facts\n",
    "    })\n"
   ]
  },
  {
   "cell_type": "code",
   "execution_count": 17,
   "id": "64ec5828",
   "metadata": {},
   "outputs": [
    {
     "data": {
      "text/html": [
       "<div>\n",
       "<style scoped>\n",
       "    .dataframe tbody tr th:only-of-type {\n",
       "        vertical-align: middle;\n",
       "    }\n",
       "\n",
       "    .dataframe tbody tr th {\n",
       "        vertical-align: top;\n",
       "    }\n",
       "\n",
       "    .dataframe thead th {\n",
       "        text-align: right;\n",
       "    }\n",
       "</style>\n",
       "<table border=\"1\" class=\"dataframe\">\n",
       "  <thead>\n",
       "    <tr style=\"text-align: right;\">\n",
       "      <th></th>\n",
       "      <th>names</th>\n",
       "      <th>facts</th>\n",
       "    </tr>\n",
       "  </thead>\n",
       "  <tbody>\n",
       "    <tr>\n",
       "      <th>0</th>\n",
       "      <td>Cavalier Johnson</td>\n",
       "      <td>“After the referendum, Milwaukee Public School...</td>\n",
       "    </tr>\n",
       "    <tr>\n",
       "      <th>1</th>\n",
       "      <td>Joel Kitchens</td>\n",
       "      <td>“90% of the (school) districts in Wisconsin al...</td>\n",
       "    </tr>\n",
       "    <tr>\n",
       "      <th>2</th>\n",
       "      <td>Susan Crawford</td>\n",
       "      <td>Wisconsin does not “require judges to automati...</td>\n",
       "    </tr>\n",
       "    <tr>\n",
       "      <th>3</th>\n",
       "      <td>Common Cause</td>\n",
       "      <td>Wisconsin makes it more difficult for its citi...</td>\n",
       "    </tr>\n",
       "    <tr>\n",
       "      <th>4</th>\n",
       "      <td>Robin Vos</td>\n",
       "      <td>Voter ID \"is supported, if you look at any pol...</td>\n",
       "    </tr>\n",
       "    <tr>\n",
       "      <th>5</th>\n",
       "      <td>Sara Jacobs</td>\n",
       "      <td>Government shutdowns in 2013 and 2018 “cost ou...</td>\n",
       "    </tr>\n",
       "    <tr>\n",
       "      <th>6</th>\n",
       "      <td>Jay Rothman</td>\n",
       "      <td>“The Universities of Wisconsin are 43rd out of...</td>\n",
       "    </tr>\n",
       "    <tr>\n",
       "      <th>7</th>\n",
       "      <td>Kamala Harris</td>\n",
       "      <td>\"As of today, we have cut the flow of immigrat...</td>\n",
       "    </tr>\n",
       "    <tr>\n",
       "      <th>8</th>\n",
       "      <td>Social Media</td>\n",
       "      <td>Project 2025 would “cut” the Federal Emergency...</td>\n",
       "    </tr>\n",
       "    <tr>\n",
       "      <th>9</th>\n",
       "      <td>Kamala Harris</td>\n",
       "      <td>“Donald Trump said he was going to allow Medic...</td>\n",
       "    </tr>\n",
       "    <tr>\n",
       "      <th>10</th>\n",
       "      <td>Robert  Cowles</td>\n",
       "      <td>“The most recent State Budget increased fundin...</td>\n",
       "    </tr>\n",
       "    <tr>\n",
       "      <th>11</th>\n",
       "      <td>Elizabeth Warren</td>\n",
       "      <td>“JD Vance actually sent a letter last year to ...</td>\n",
       "    </tr>\n",
       "    <tr>\n",
       "      <th>12</th>\n",
       "      <td>Tim Walz</td>\n",
       "      <td>JD Vance “literally wrote the foreword for the...</td>\n",
       "    </tr>\n",
       "    <tr>\n",
       "      <th>13</th>\n",
       "      <td>JD Vance</td>\n",
       "      <td>Says Tim Walz said he carried weapons in war, ...</td>\n",
       "    </tr>\n",
       "    <tr>\n",
       "      <th>14</th>\n",
       "      <td>Byron Donalds</td>\n",
       "      <td>\"Tim Walz firmó una ley para dar licencia de c...</td>\n",
       "    </tr>\n",
       "    <tr>\n",
       "      <th>15</th>\n",
       "      <td>Byron Donalds</td>\n",
       "      <td>\"Tim Walz signed into law driver's licenses fo...</td>\n",
       "    </tr>\n",
       "    <tr>\n",
       "      <th>16</th>\n",
       "      <td>Tammy Baldwin</td>\n",
       "      <td>Eric Hovde “wants to repeal the Affordable Car...</td>\n",
       "    </tr>\n",
       "    <tr>\n",
       "      <th>17</th>\n",
       "      <td>Kamala Harris</td>\n",
       "      <td>Project 2025 would “end Head Start.”</td>\n",
       "    </tr>\n",
       "    <tr>\n",
       "      <th>18</th>\n",
       "      <td>Kamala Harris</td>\n",
       "      <td>Black women in the U.S. are “three to four tim...</td>\n",
       "    </tr>\n",
       "    <tr>\n",
       "      <th>19</th>\n",
       "      <td>Byron Donalds</td>\n",
       "      <td>Kamala Harris \"co-sponsored, fully sponsored\" ...</td>\n",
       "    </tr>\n",
       "    <tr>\n",
       "      <th>20</th>\n",
       "      <td>David Crowley</td>\n",
       "      <td>“Under (the Biden) administration we have witn...</td>\n",
       "    </tr>\n",
       "    <tr>\n",
       "      <th>21</th>\n",
       "      <td>Tony Evers</td>\n",
       "      <td>Wisconsin had a “record-breaking year” for tou...</td>\n",
       "    </tr>\n",
       "    <tr>\n",
       "      <th>22</th>\n",
       "      <td>Social Media</td>\n",
       "      <td>Under federal law, former President Donald Tru...</td>\n",
       "    </tr>\n",
       "    <tr>\n",
       "      <th>23</th>\n",
       "      <td>Joe Biden</td>\n",
       "      <td>“Violent crime is near a record 50-year low.”</td>\n",
       "    </tr>\n",
       "    <tr>\n",
       "      <th>24</th>\n",
       "      <td>Tyler August</td>\n",
       "      <td>“Nearly 90% of all UW graduates stay in Wiscon...</td>\n",
       "    </tr>\n",
       "    <tr>\n",
       "      <th>25</th>\n",
       "      <td>Mark Pocan</td>\n",
       "      <td>“We passed 27 bills last year, which is the fe...</td>\n",
       "    </tr>\n",
       "    <tr>\n",
       "      <th>26</th>\n",
       "      <td>Lisa Subeck</td>\n",
       "      <td>“The United States is an outlier, one of only ...</td>\n",
       "    </tr>\n",
       "    <tr>\n",
       "      <th>27</th>\n",
       "      <td>Brian Schimming</td>\n",
       "      <td>“We’ve had 12 elections in 24 years in Wiscons...</td>\n",
       "    </tr>\n",
       "    <tr>\n",
       "      <th>28</th>\n",
       "      <td>Tammy Baldwin</td>\n",
       "      <td>“We’re facing situations these days where you ...</td>\n",
       "    </tr>\n",
       "    <tr>\n",
       "      <th>29</th>\n",
       "      <td>Sarah Godlewski</td>\n",
       "      <td>“When it comes to how many votes (President) J...</td>\n",
       "    </tr>\n",
       "  </tbody>\n",
       "</table>\n",
       "</div>"
      ],
      "text/plain": [
       "               names                                              facts\n",
       "0   Cavalier Johnson  “After the referendum, Milwaukee Public School...\n",
       "1      Joel Kitchens  “90% of the (school) districts in Wisconsin al...\n",
       "2     Susan Crawford  Wisconsin does not “require judges to automati...\n",
       "3       Common Cause  Wisconsin makes it more difficult for its citi...\n",
       "4          Robin Vos  Voter ID \"is supported, if you look at any pol...\n",
       "5        Sara Jacobs  Government shutdowns in 2013 and 2018 “cost ou...\n",
       "6        Jay Rothman  “The Universities of Wisconsin are 43rd out of...\n",
       "7      Kamala Harris  \"As of today, we have cut the flow of immigrat...\n",
       "8       Social Media  Project 2025 would “cut” the Federal Emergency...\n",
       "9      Kamala Harris  “Donald Trump said he was going to allow Medic...\n",
       "10    Robert  Cowles  “The most recent State Budget increased fundin...\n",
       "11  Elizabeth Warren  “JD Vance actually sent a letter last year to ...\n",
       "12          Tim Walz  JD Vance “literally wrote the foreword for the...\n",
       "13          JD Vance  Says Tim Walz said he carried weapons in war, ...\n",
       "14     Byron Donalds  \"Tim Walz firmó una ley para dar licencia de c...\n",
       "15     Byron Donalds  \"Tim Walz signed into law driver's licenses fo...\n",
       "16     Tammy Baldwin  Eric Hovde “wants to repeal the Affordable Car...\n",
       "17     Kamala Harris               Project 2025 would “end Head Start.”\n",
       "18     Kamala Harris  Black women in the U.S. are “three to four tim...\n",
       "19     Byron Donalds  Kamala Harris \"co-sponsored, fully sponsored\" ...\n",
       "20     David Crowley  “Under (the Biden) administration we have witn...\n",
       "21        Tony Evers  Wisconsin had a “record-breaking year” for tou...\n",
       "22      Social Media  Under federal law, former President Donald Tru...\n",
       "23         Joe Biden      “Violent crime is near a record 50-year low.”\n",
       "24      Tyler August  “Nearly 90% of all UW graduates stay in Wiscon...\n",
       "25        Mark Pocan  “We passed 27 bills last year, which is the fe...\n",
       "26       Lisa Subeck  “The United States is an outlier, one of only ...\n",
       "27   Brian Schimming  “We’ve had 12 elections in 24 years in Wiscons...\n",
       "28     Tammy Baldwin  “We’re facing situations these days where you ...\n",
       "29   Sarah Godlewski  “When it comes to how many votes (President) J..."
      ]
     },
     "execution_count": 17,
     "metadata": {},
     "output_type": "execute_result"
    }
   ],
   "source": [
    "df"
   ]
  },
  {
   "cell_type": "code",
   "execution_count": null,
   "id": "9e9ef184",
   "metadata": {},
   "outputs": [],
   "source": []
  }
 ],
 "metadata": {
  "kernelspec": {
   "display_name": "Python 3 (ipykernel)",
   "language": "python",
   "name": "python3"
  },
  "language_info": {
   "codemirror_mode": {
    "name": "ipython",
    "version": 3
   },
   "file_extension": ".py",
   "mimetype": "text/x-python",
   "name": "python",
   "nbconvert_exporter": "python",
   "pygments_lexer": "ipython3",
   "version": "3.8.18"
  }
 },
 "nbformat": 4,
 "nbformat_minor": 5
}

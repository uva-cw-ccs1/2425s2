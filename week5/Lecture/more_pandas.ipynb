{
 "cells": [
  {
   "cell_type": "code",
   "execution_count": null,
   "id": "round-container",
   "metadata": {},
   "outputs": [],
   "source": [
    "import pandas as pd"
   ]
  },
  {
   "cell_type": "code",
   "execution_count": null,
   "id": "cardiac-silicon",
   "metadata": {},
   "outputs": [],
   "source": [
    "df_citation = pd.read_csv(\"citation.csv\", sep = \",\")"
   ]
  },
  {
   "cell_type": "code",
   "execution_count": null,
   "id": "prescribed-lancaster",
   "metadata": {},
   "outputs": [],
   "source": [
    "#Show first 5 rows\n",
    "df_citation.head()"
   ]
  },
  {
   "cell_type": "code",
   "execution_count": 62,
   "id": "bddb59f1",
   "metadata": {},
   "outputs": [
    {
     "data": {
      "text/plain": [
       "Index(['doi', 'times_cited'], dtype='object')"
      ]
     },
     "execution_count": 62,
     "metadata": {},
     "output_type": "execute_result"
    }
   ],
   "source": [
    "#Show columns\n",
    "df_citation.columns"
   ]
  },
  {
   "cell_type": "code",
   "execution_count": 63,
   "id": "74bfcccf",
   "metadata": {},
   "outputs": [
    {
     "data": {
      "text/plain": [
       "doi            object\n",
       "times_cited     int64\n",
       "dtype: object"
      ]
     },
     "execution_count": 63,
     "metadata": {},
     "output_type": "execute_result"
    }
   ],
   "source": [
    "#Show dtypes\n",
    "df_citation.dtypes"
   ]
  },
  {
   "cell_type": "code",
   "execution_count": 64,
   "id": "5b916d51",
   "metadata": {},
   "outputs": [
    {
     "data": {
      "text/plain": [
       "doi            0\n",
       "times_cited    0\n",
       "dtype: int64"
      ]
     },
     "execution_count": 64,
     "metadata": {},
     "output_type": "execute_result"
    }
   ],
   "source": [
    "#Show missing\n",
    "df_citation.isna().sum()"
   ]
  },
  {
   "cell_type": "code",
   "execution_count": 65,
   "id": "8fb0fd6f",
   "metadata": {},
   "outputs": [
    {
     "data": {
      "text/plain": [
       "count    473.000000\n",
       "mean      31.818182\n",
       "std       62.853380\n",
       "min        0.000000\n",
       "25%        4.000000\n",
       "50%       14.000000\n",
       "75%       35.000000\n",
       "max      789.000000\n",
       "Name: times_cited, dtype: float64"
      ]
     },
     "execution_count": 65,
     "metadata": {},
     "output_type": "execute_result"
    }
   ],
   "source": [
    "# 1. calculating mean for trusted to have a cut-off point\n",
    "\n",
    "df_citation['times_cited'].describe()"
   ]
  },
  {
   "cell_type": "code",
   "execution_count": 67,
   "id": "broken-hampshire",
   "metadata": {},
   "outputs": [],
   "source": [
    "# Function to classify as highly cited if above average\n",
    "\n",
    "# cut-off = 31.818182\n",
    "\n",
    "def highlycited(citations):\n",
    "    if citations >= 31.818182:\n",
    "        return True\n",
    "    else:\n",
    "        return False"
   ]
  },
  {
   "cell_type": "code",
   "execution_count": 68,
   "id": "2f7bf51d-ad2b-4c56-a392-b073da32ab82",
   "metadata": {},
   "outputs": [],
   "source": [
    "# Here I am going to show you THREE ways to do the same thing (pick one to use):\n",
    "\n",
    "# First we clear a list\n",
    "is_highlycited = []\n",
    "for i in df_citation['times_cited']:\n",
    "    result = highlycited(i)\n",
    "    is_highlycited.append(result)"
   ]
  },
  {
   "cell_type": "code",
   "execution_count": null,
   "id": "5d300a36-89c6-4f6c-b262-97132c8bd2d9",
   "metadata": {},
   "outputs": [],
   "source": [
    "is_highlycited"
   ]
  },
  {
   "cell_type": "code",
   "execution_count": 70,
   "id": "392bd913-eab0-4eaa-b3fb-23009d083114",
   "metadata": {},
   "outputs": [],
   "source": [
    "# Next we put the list as a new column\n",
    "df_citation['is_highlycited'] = is_highlycited"
   ]
  },
  {
   "cell_type": "code",
   "execution_count": 71,
   "id": "f57c8aa1-a8f3-4255-8903-defe444943b1",
   "metadata": {},
   "outputs": [
    {
     "data": {
      "text/html": [
       "<div>\n",
       "<style scoped>\n",
       "    .dataframe tbody tr th:only-of-type {\n",
       "        vertical-align: middle;\n",
       "    }\n",
       "\n",
       "    .dataframe tbody tr th {\n",
       "        vertical-align: top;\n",
       "    }\n",
       "\n",
       "    .dataframe thead th {\n",
       "        text-align: right;\n",
       "    }\n",
       "</style>\n",
       "<table border=\"1\" class=\"dataframe\">\n",
       "  <thead>\n",
       "    <tr style=\"text-align: right;\">\n",
       "      <th></th>\n",
       "      <th>doi</th>\n",
       "      <th>times_cited</th>\n",
       "      <th>is_highlycited</th>\n",
       "    </tr>\n",
       "  </thead>\n",
       "  <tbody>\n",
       "    <tr>\n",
       "      <th>0</th>\n",
       "      <td>10.1177/20563051221138753</td>\n",
       "      <td>9</td>\n",
       "      <td>False</td>\n",
       "    </tr>\n",
       "    <tr>\n",
       "      <th>1</th>\n",
       "      <td>10.1177/20563051221138758</td>\n",
       "      <td>4</td>\n",
       "      <td>False</td>\n",
       "    </tr>\n",
       "    <tr>\n",
       "      <th>2</th>\n",
       "      <td>10.1177/2056305117733224</td>\n",
       "      <td>32</td>\n",
       "      <td>True</td>\n",
       "    </tr>\n",
       "    <tr>\n",
       "      <th>3</th>\n",
       "      <td>10.1177/2056305120949268</td>\n",
       "      <td>1</td>\n",
       "      <td>False</td>\n",
       "    </tr>\n",
       "    <tr>\n",
       "      <th>4</th>\n",
       "      <td>10.1177/2056305119898778</td>\n",
       "      <td>17</td>\n",
       "      <td>False</td>\n",
       "    </tr>\n",
       "  </tbody>\n",
       "</table>\n",
       "</div>"
      ],
      "text/plain": [
       "                         doi  times_cited  is_highlycited\n",
       "0  10.1177/20563051221138753            9           False\n",
       "1  10.1177/20563051221138758            4           False\n",
       "2   10.1177/2056305117733224           32            True\n",
       "3   10.1177/2056305120949268            1           False\n",
       "4   10.1177/2056305119898778           17           False"
      ]
     },
     "execution_count": 71,
     "metadata": {},
     "output_type": "execute_result"
    }
   ],
   "source": [
    "df_citation.head()"
   ]
  },
  {
   "cell_type": "code",
   "execution_count": 72,
   "id": "8f35421c-cdd9-4784-82d1-4bac8a755ae2",
   "metadata": {},
   "outputs": [],
   "source": [
    "df_citation['is_highlycited2'] = [highlycited(x) for x in df_citation['times_cited']]"
   ]
  },
  {
   "cell_type": "code",
   "execution_count": 73,
   "id": "0e4e30c7-9ab4-4d5b-83ab-f7bed77c26e4",
   "metadata": {},
   "outputs": [
    {
     "data": {
      "text/html": [
       "<div>\n",
       "<style scoped>\n",
       "    .dataframe tbody tr th:only-of-type {\n",
       "        vertical-align: middle;\n",
       "    }\n",
       "\n",
       "    .dataframe tbody tr th {\n",
       "        vertical-align: top;\n",
       "    }\n",
       "\n",
       "    .dataframe thead th {\n",
       "        text-align: right;\n",
       "    }\n",
       "</style>\n",
       "<table border=\"1\" class=\"dataframe\">\n",
       "  <thead>\n",
       "    <tr style=\"text-align: right;\">\n",
       "      <th></th>\n",
       "      <th>doi</th>\n",
       "      <th>times_cited</th>\n",
       "      <th>is_highlycited</th>\n",
       "      <th>is_highlycited2</th>\n",
       "    </tr>\n",
       "  </thead>\n",
       "  <tbody>\n",
       "    <tr>\n",
       "      <th>0</th>\n",
       "      <td>10.1177/20563051221138753</td>\n",
       "      <td>9</td>\n",
       "      <td>False</td>\n",
       "      <td>False</td>\n",
       "    </tr>\n",
       "    <tr>\n",
       "      <th>1</th>\n",
       "      <td>10.1177/20563051221138758</td>\n",
       "      <td>4</td>\n",
       "      <td>False</td>\n",
       "      <td>False</td>\n",
       "    </tr>\n",
       "    <tr>\n",
       "      <th>2</th>\n",
       "      <td>10.1177/2056305117733224</td>\n",
       "      <td>32</td>\n",
       "      <td>True</td>\n",
       "      <td>True</td>\n",
       "    </tr>\n",
       "    <tr>\n",
       "      <th>3</th>\n",
       "      <td>10.1177/2056305120949268</td>\n",
       "      <td>1</td>\n",
       "      <td>False</td>\n",
       "      <td>False</td>\n",
       "    </tr>\n",
       "    <tr>\n",
       "      <th>4</th>\n",
       "      <td>10.1177/2056305119898778</td>\n",
       "      <td>17</td>\n",
       "      <td>False</td>\n",
       "      <td>False</td>\n",
       "    </tr>\n",
       "  </tbody>\n",
       "</table>\n",
       "</div>"
      ],
      "text/plain": [
       "                         doi  times_cited  is_highlycited  is_highlycited2\n",
       "0  10.1177/20563051221138753            9           False            False\n",
       "1  10.1177/20563051221138758            4           False            False\n",
       "2   10.1177/2056305117733224           32            True             True\n",
       "3   10.1177/2056305120949268            1           False            False\n",
       "4   10.1177/2056305119898778           17           False            False"
      ]
     },
     "execution_count": 73,
     "metadata": {},
     "output_type": "execute_result"
    }
   ],
   "source": [
    "df_citation.head()"
   ]
  },
  {
   "cell_type": "code",
   "execution_count": 77,
   "id": "9671f3c0",
   "metadata": {},
   "outputs": [],
   "source": [
    "df_citation['is_highlycited3'] = df_citation['times_cited'].apply(highlycited)"
   ]
  },
  {
   "cell_type": "code",
   "execution_count": 75,
   "id": "8c8b7c2d",
   "metadata": {},
   "outputs": [
    {
     "data": {
      "text/html": [
       "<div>\n",
       "<style scoped>\n",
       "    .dataframe tbody tr th:only-of-type {\n",
       "        vertical-align: middle;\n",
       "    }\n",
       "\n",
       "    .dataframe tbody tr th {\n",
       "        vertical-align: top;\n",
       "    }\n",
       "\n",
       "    .dataframe thead th {\n",
       "        text-align: right;\n",
       "    }\n",
       "</style>\n",
       "<table border=\"1\" class=\"dataframe\">\n",
       "  <thead>\n",
       "    <tr style=\"text-align: right;\">\n",
       "      <th></th>\n",
       "      <th>doi</th>\n",
       "      <th>times_cited</th>\n",
       "      <th>is_highlycited</th>\n",
       "      <th>is_highlycited2</th>\n",
       "      <th>is_highlycited3</th>\n",
       "    </tr>\n",
       "  </thead>\n",
       "  <tbody>\n",
       "    <tr>\n",
       "      <th>0</th>\n",
       "      <td>10.1177/20563051221138753</td>\n",
       "      <td>9</td>\n",
       "      <td>False</td>\n",
       "      <td>False</td>\n",
       "      <td>False</td>\n",
       "    </tr>\n",
       "    <tr>\n",
       "      <th>1</th>\n",
       "      <td>10.1177/20563051221138758</td>\n",
       "      <td>4</td>\n",
       "      <td>False</td>\n",
       "      <td>False</td>\n",
       "      <td>False</td>\n",
       "    </tr>\n",
       "    <tr>\n",
       "      <th>2</th>\n",
       "      <td>10.1177/2056305117733224</td>\n",
       "      <td>32</td>\n",
       "      <td>True</td>\n",
       "      <td>True</td>\n",
       "      <td>True</td>\n",
       "    </tr>\n",
       "    <tr>\n",
       "      <th>3</th>\n",
       "      <td>10.1177/2056305120949268</td>\n",
       "      <td>1</td>\n",
       "      <td>False</td>\n",
       "      <td>False</td>\n",
       "      <td>False</td>\n",
       "    </tr>\n",
       "    <tr>\n",
       "      <th>4</th>\n",
       "      <td>10.1177/2056305119898778</td>\n",
       "      <td>17</td>\n",
       "      <td>False</td>\n",
       "      <td>False</td>\n",
       "      <td>False</td>\n",
       "    </tr>\n",
       "  </tbody>\n",
       "</table>\n",
       "</div>"
      ],
      "text/plain": [
       "                         doi  times_cited  is_highlycited  is_highlycited2  \\\n",
       "0  10.1177/20563051221138753            9           False            False   \n",
       "1  10.1177/20563051221138758            4           False            False   \n",
       "2   10.1177/2056305117733224           32            True             True   \n",
       "3   10.1177/2056305120949268            1           False            False   \n",
       "4   10.1177/2056305119898778           17           False            False   \n",
       "\n",
       "   is_highlycited3  \n",
       "0            False  \n",
       "1            False  \n",
       "2             True  \n",
       "3            False  \n",
       "4            False  "
      ]
     },
     "execution_count": 75,
     "metadata": {},
     "output_type": "execute_result"
    }
   ],
   "source": [
    "df_citation.head()"
   ]
  },
  {
   "cell_type": "code",
   "execution_count": 78,
   "id": "a23650b4",
   "metadata": {},
   "outputs": [
    {
     "data": {
      "text/plain": [
       "is_highlycited\n",
       "False    337\n",
       "True     136\n",
       "Name: count, dtype: int64"
      ]
     },
     "execution_count": 78,
     "metadata": {},
     "output_type": "execute_result"
    }
   ],
   "source": [
    "df_citation['is_highlycited'].value_counts()"
   ]
  },
  {
   "cell_type": "markdown",
   "id": "85ef4118-05cd-4379-9b38-62bfc5d49360",
   "metadata": {},
   "source": [
    "### Question: What to do if I want a smaller dataset, with only highly cited articles?"
   ]
  },
  {
   "cell_type": "code",
   "execution_count": 89,
   "id": "746f1f95-38e4-4289-b8c0-20e2a6a10c10",
   "metadata": {},
   "outputs": [
    {
     "data": {
      "text/plain": [
       "0      False\n",
       "1      False\n",
       "2      False\n",
       "3      False\n",
       "4      False\n",
       "       ...  \n",
       "468    False\n",
       "469     True\n",
       "470     True\n",
       "471    False\n",
       "472    False\n",
       "Name: times_cited, Length: 473, dtype: bool"
      ]
     },
     "execution_count": 89,
     "metadata": {},
     "output_type": "execute_result"
    }
   ],
   "source": [
    "df_citation['times_cited'] > 35"
   ]
  },
  {
   "cell_type": "code",
   "execution_count": 88,
   "id": "e63050a1-6a18-4b21-8098-260d3c9e34ea",
   "metadata": {},
   "outputs": [
    {
     "data": {
      "text/html": [
       "<div>\n",
       "<style scoped>\n",
       "    .dataframe tbody tr th:only-of-type {\n",
       "        vertical-align: middle;\n",
       "    }\n",
       "\n",
       "    .dataframe tbody tr th {\n",
       "        vertical-align: top;\n",
       "    }\n",
       "\n",
       "    .dataframe thead th {\n",
       "        text-align: right;\n",
       "    }\n",
       "</style>\n",
       "<table border=\"1\" class=\"dataframe\">\n",
       "  <thead>\n",
       "    <tr style=\"text-align: right;\">\n",
       "      <th></th>\n",
       "      <th>doi</th>\n",
       "      <th>times_cited</th>\n",
       "      <th>is_highlycited</th>\n",
       "      <th>is_highlycited2</th>\n",
       "      <th>is_highlycited3</th>\n",
       "    </tr>\n",
       "  </thead>\n",
       "  <tbody>\n",
       "    <tr>\n",
       "      <th>6</th>\n",
       "      <td>10.1177/2056305118797724</td>\n",
       "      <td>65</td>\n",
       "      <td>True</td>\n",
       "      <td>True</td>\n",
       "      <td>True</td>\n",
       "    </tr>\n",
       "    <tr>\n",
       "      <th>8</th>\n",
       "      <td>10.1177/2056305118785638</td>\n",
       "      <td>43</td>\n",
       "      <td>True</td>\n",
       "      <td>True</td>\n",
       "      <td>True</td>\n",
       "    </tr>\n",
       "    <tr>\n",
       "      <th>14</th>\n",
       "      <td>10.1177/2056305120969877</td>\n",
       "      <td>38</td>\n",
       "      <td>True</td>\n",
       "      <td>True</td>\n",
       "      <td>True</td>\n",
       "    </tr>\n",
       "    <tr>\n",
       "      <th>28</th>\n",
       "      <td>10.1177/2056305119881695</td>\n",
       "      <td>36</td>\n",
       "      <td>True</td>\n",
       "      <td>True</td>\n",
       "      <td>True</td>\n",
       "    </tr>\n",
       "    <tr>\n",
       "      <th>30</th>\n",
       "      <td>10.1177/2056305119832588</td>\n",
       "      <td>43</td>\n",
       "      <td>True</td>\n",
       "      <td>True</td>\n",
       "      <td>True</td>\n",
       "    </tr>\n",
       "    <tr>\n",
       "      <th>...</th>\n",
       "      <td>...</td>\n",
       "      <td>...</td>\n",
       "      <td>...</td>\n",
       "      <td>...</td>\n",
       "      <td>...</td>\n",
       "    </tr>\n",
       "    <tr>\n",
       "      <th>461</th>\n",
       "      <td>10.1177/1461444819893987</td>\n",
       "      <td>85</td>\n",
       "      <td>True</td>\n",
       "      <td>True</td>\n",
       "      <td>True</td>\n",
       "    </tr>\n",
       "    <tr>\n",
       "      <th>462</th>\n",
       "      <td>10.1177/1461444815609081</td>\n",
       "      <td>139</td>\n",
       "      <td>True</td>\n",
       "      <td>True</td>\n",
       "      <td>True</td>\n",
       "    </tr>\n",
       "    <tr>\n",
       "      <th>467</th>\n",
       "      <td>10.1177/1461444817740755</td>\n",
       "      <td>42</td>\n",
       "      <td>True</td>\n",
       "      <td>True</td>\n",
       "      <td>True</td>\n",
       "    </tr>\n",
       "    <tr>\n",
       "      <th>469</th>\n",
       "      <td>10.1177/1461444820913122</td>\n",
       "      <td>69</td>\n",
       "      <td>True</td>\n",
       "      <td>True</td>\n",
       "      <td>True</td>\n",
       "    </tr>\n",
       "    <tr>\n",
       "      <th>470</th>\n",
       "      <td>10.1177/1461444814543999</td>\n",
       "      <td>49</td>\n",
       "      <td>True</td>\n",
       "      <td>True</td>\n",
       "      <td>True</td>\n",
       "    </tr>\n",
       "  </tbody>\n",
       "</table>\n",
       "<p>117 rows × 5 columns</p>\n",
       "</div>"
      ],
      "text/plain": [
       "                          doi  times_cited  is_highlycited  is_highlycited2  \\\n",
       "6    10.1177/2056305118797724           65            True             True   \n",
       "8    10.1177/2056305118785638           43            True             True   \n",
       "14   10.1177/2056305120969877           38            True             True   \n",
       "28   10.1177/2056305119881695           36            True             True   \n",
       "30   10.1177/2056305119832588           43            True             True   \n",
       "..                        ...          ...             ...              ...   \n",
       "461  10.1177/1461444819893987           85            True             True   \n",
       "462  10.1177/1461444815609081          139            True             True   \n",
       "467  10.1177/1461444817740755           42            True             True   \n",
       "469  10.1177/1461444820913122           69            True             True   \n",
       "470  10.1177/1461444814543999           49            True             True   \n",
       "\n",
       "     is_highlycited3  \n",
       "6               True  \n",
       "8               True  \n",
       "14              True  \n",
       "28              True  \n",
       "30              True  \n",
       "..               ...  \n",
       "461             True  \n",
       "462             True  \n",
       "467             True  \n",
       "469             True  \n",
       "470             True  \n",
       "\n",
       "[117 rows x 5 columns]"
      ]
     },
     "execution_count": 88,
     "metadata": {},
     "output_type": "execute_result"
    }
   ],
   "source": [
    "# What is the symbol to use?\n",
    "# What is the condition\n",
    "df_citation[df_citation['times_cited'] > 35]\n"
   ]
  },
  {
   "cell_type": "markdown",
   "id": "037cb4c6-7c4a-47b7-a4f8-a0f78781b2ff",
   "metadata": {},
   "source": [
    "## Merging"
   ]
  },
  {
   "cell_type": "code",
   "execution_count": 90,
   "id": "78279318",
   "metadata": {},
   "outputs": [],
   "source": [
    "df_article = pd.read_csv(\"article_info.csv\")"
   ]
  },
  {
   "cell_type": "code",
   "execution_count": 91,
   "id": "54d128dd",
   "metadata": {},
   "outputs": [
    {
     "data": {
      "text/html": [
       "<div>\n",
       "<style scoped>\n",
       "    .dataframe tbody tr th:only-of-type {\n",
       "        vertical-align: middle;\n",
       "    }\n",
       "\n",
       "    .dataframe tbody tr th {\n",
       "        vertical-align: top;\n",
       "    }\n",
       "\n",
       "    .dataframe thead th {\n",
       "        text-align: right;\n",
       "    }\n",
       "</style>\n",
       "<table border=\"1\" class=\"dataframe\">\n",
       "  <thead>\n",
       "    <tr style=\"text-align: right;\">\n",
       "      <th></th>\n",
       "      <th>doi</th>\n",
       "      <th>title</th>\n",
       "      <th>abstract</th>\n",
       "      <th>year</th>\n",
       "      <th>journal.title</th>\n",
       "    </tr>\n",
       "  </thead>\n",
       "  <tbody>\n",
       "    <tr>\n",
       "      <th>0</th>\n",
       "      <td>10.1177/20563051221138753</td>\n",
       "      <td>Discursive Strategies of Blaming: The Language...</td>\n",
       "      <td>Modern politics is permeated by blame games-sy...</td>\n",
       "      <td>2022</td>\n",
       "      <td>Social Media + Society</td>\n",
       "    </tr>\n",
       "    <tr>\n",
       "      <th>1</th>\n",
       "      <td>10.1177/20563051221138758</td>\n",
       "      <td>Hate Speech in a Telegram Conspiracy Channel D...</td>\n",
       "      <td>Research has explored how the COVID-19 pandemi...</td>\n",
       "      <td>2022</td>\n",
       "      <td>Social Media + Society</td>\n",
       "    </tr>\n",
       "    <tr>\n",
       "      <th>2</th>\n",
       "      <td>10.1177/2056305117733224</td>\n",
       "      <td>Twitter and Non-Elites: Interpreting Power Dyn...</td>\n",
       "      <td>In May 2013 and March 2015, actress Angelina J...</td>\n",
       "      <td>2017</td>\n",
       "      <td>Social Media + Society</td>\n",
       "    </tr>\n",
       "    <tr>\n",
       "      <th>3</th>\n",
       "      <td>10.1177/2056305120949268</td>\n",
       "      <td>“Mischievous Uncles” as Rule Breakers: Interse...</td>\n",
       "      <td>Responses to crises can highlight and exacerba...</td>\n",
       "      <td>2020</td>\n",
       "      <td>Social Media + Society</td>\n",
       "    </tr>\n",
       "    <tr>\n",
       "      <th>4</th>\n",
       "      <td>10.1177/2056305119898778</td>\n",
       "      <td>Building Social Media Observatories for Monito...</td>\n",
       "      <td>Social media house a trove of relevant informa...</td>\n",
       "      <td>2020</td>\n",
       "      <td>Social Media + Society</td>\n",
       "    </tr>\n",
       "  </tbody>\n",
       "</table>\n",
       "</div>"
      ],
      "text/plain": [
       "                         doi  \\\n",
       "0  10.1177/20563051221138753   \n",
       "1  10.1177/20563051221138758   \n",
       "2   10.1177/2056305117733224   \n",
       "3   10.1177/2056305120949268   \n",
       "4   10.1177/2056305119898778   \n",
       "\n",
       "                                               title  \\\n",
       "0  Discursive Strategies of Blaming: The Language...   \n",
       "1  Hate Speech in a Telegram Conspiracy Channel D...   \n",
       "2  Twitter and Non-Elites: Interpreting Power Dyn...   \n",
       "3  “Mischievous Uncles” as Rule Breakers: Interse...   \n",
       "4  Building Social Media Observatories for Monito...   \n",
       "\n",
       "                                            abstract  year  \\\n",
       "0  Modern politics is permeated by blame games-sy...  2022   \n",
       "1  Research has explored how the COVID-19 pandemi...  2022   \n",
       "2  In May 2013 and March 2015, actress Angelina J...  2017   \n",
       "3  Responses to crises can highlight and exacerba...  2020   \n",
       "4  Social media house a trove of relevant informa...  2020   \n",
       "\n",
       "            journal.title  \n",
       "0  Social Media + Society  \n",
       "1  Social Media + Society  \n",
       "2  Social Media + Society  \n",
       "3  Social Media + Society  \n",
       "4  Social Media + Society  "
      ]
     },
     "execution_count": 91,
     "metadata": {},
     "output_type": "execute_result"
    }
   ],
   "source": [
    "df_article.head()"
   ]
  },
  {
   "cell_type": "code",
   "execution_count": 92,
   "id": "82949655",
   "metadata": {},
   "outputs": [
    {
     "data": {
      "text/plain": [
       "Index(['doi', 'title', 'abstract', 'year', 'journal.title'], dtype='object')"
      ]
     },
     "execution_count": 92,
     "metadata": {},
     "output_type": "execute_result"
    }
   ],
   "source": [
    "df_article.columns"
   ]
  },
  {
   "cell_type": "code",
   "execution_count": 93,
   "id": "f1ac4618",
   "metadata": {},
   "outputs": [
    {
     "data": {
      "text/plain": [
       "doi              object\n",
       "title            object\n",
       "abstract         object\n",
       "year              int64\n",
       "journal.title    object\n",
       "dtype: object"
      ]
     },
     "execution_count": 93,
     "metadata": {},
     "output_type": "execute_result"
    }
   ],
   "source": [
    "df_article.dtypes"
   ]
  },
  {
   "cell_type": "code",
   "execution_count": 94,
   "id": "20fc5c8c-e454-41d5-aae3-88abe6e4079d",
   "metadata": {},
   "outputs": [
    {
     "data": {
      "text/plain": [
       "doi               0\n",
       "title             0\n",
       "abstract         21\n",
       "year              0\n",
       "journal.title     0\n",
       "dtype: int64"
      ]
     },
     "execution_count": 94,
     "metadata": {},
     "output_type": "execute_result"
    }
   ],
   "source": [
    "df_article.isna().sum()"
   ]
  },
  {
   "cell_type": "code",
   "execution_count": 95,
   "id": "ea81d35d-31db-48bf-b18e-d3a2f42748dd",
   "metadata": {},
   "outputs": [],
   "source": [
    "df_full = pd.merge(df_citation, df_article, how = 'left', left_on = 'doi', right_on='doi')"
   ]
  },
  {
   "cell_type": "code",
   "execution_count": 97,
   "id": "58f2aa76-3da7-4f37-b59f-d16a30d37b11",
   "metadata": {},
   "outputs": [],
   "source": [
    "df_full = df_citation.merge(df_article, how = 'left', left_on = 'doi', right_on='doi')"
   ]
  },
  {
   "cell_type": "code",
   "execution_count": 102,
   "id": "9cf2a35b-4b6b-4539-ae26-2812c9305244",
   "metadata": {},
   "outputs": [
    {
     "data": {
      "text/plain": [
       "(473, 5)"
      ]
     },
     "execution_count": 102,
     "metadata": {},
     "output_type": "execute_result"
    }
   ],
   "source": [
    "df_citation.shape"
   ]
  },
  {
   "cell_type": "code",
   "execution_count": 103,
   "id": "153b273b-9bd9-4fb9-bb79-6f5f15f4a248",
   "metadata": {},
   "outputs": [
    {
     "data": {
      "text/plain": [
       "(473, 5)"
      ]
     },
     "execution_count": 103,
     "metadata": {},
     "output_type": "execute_result"
    }
   ],
   "source": [
    "df_article.shape"
   ]
  },
  {
   "cell_type": "code",
   "execution_count": 101,
   "id": "a42ce866-c205-475c-a044-a1cbbcde006a",
   "metadata": {
    "scrolled": true,
    "tags": []
   },
   "outputs": [
    {
     "data": {
      "text/plain": [
       "(473, 9)"
      ]
     },
     "execution_count": 101,
     "metadata": {},
     "output_type": "execute_result"
    }
   ],
   "source": [
    "df_full.shape"
   ]
  },
  {
   "cell_type": "code",
   "execution_count": 99,
   "id": "671dab4d-1700-4c5e-b1c8-a907e8220205",
   "metadata": {},
   "outputs": [],
   "source": [
    "df_full.to_csv('article_with_citation.csv')"
   ]
  }
 ],
 "metadata": {
  "kernelspec": {
   "display_name": "Python 3 (ipykernel)",
   "language": "python",
   "name": "python3"
  },
  "language_info": {
   "codemirror_mode": {
    "name": "ipython",
    "version": 3
   },
   "file_extension": ".py",
   "mimetype": "text/x-python",
   "name": "python",
   "nbconvert_exporter": "python",
   "pygments_lexer": "ipython3",
   "version": "3.9.18"
  }
 },
 "nbformat": 4,
 "nbformat_minor": 5
}

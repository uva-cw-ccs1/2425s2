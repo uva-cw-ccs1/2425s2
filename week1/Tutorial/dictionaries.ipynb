{
 "cells": [
  {
   "cell_type": "markdown",
   "id": "c32cad17-aaad-4958-b370-f1fee57c041b",
   "metadata": {},
   "source": [
    "# Introduction to Dictionaries in Python\n",
    "\n",
    "A dictionary is a collection of **key-value** pairs.\n",
    "\n",
    "![https://www.programiz.com/sites/tutorial2program/files/python_dictionary-example.png](https://www.programiz.com/sites/tutorial2program/files/python_dictionary-example.png)\n",
    "\n",
    "Think of it like a real dictionary where you look up a word (the key) to find its meaning (the value)!\n",
    "\n",
    "Key facts: \n",
    "\n",
    "+ Dictionaries are defined by *curly brackets*: **{}**.\n",
    "\n",
    "+ The value comes first. If it is a string, don't forget quotation marks **\"\"**\n",
    "\n",
    "+ Followed by a colon *:* to separate key from value\n",
    "\n",
    "+ Followed by a value\n",
    "\n",
    "+ add comma *,* if you want to add additional key-value pairs\n",
    "\n",
    "+ ...\n",
    "\n",
    "+ REPEAT!\n",
    "\n",
    "**Voila!**\n"
   ]
  },
  {
   "cell_type": "code",
   "execution_count": 5,
   "id": "489d4b63-24a4-474e-ba3d-32cea3e47c8f",
   "metadata": {},
   "outputs": [],
   "source": [
    "\n",
    "# Here's a simple dictionary:\n",
    "student_info = {\n",
    "    \"name\": \"Alice\",\n",
    "    \"age\": 22,\n",
    "    \"major\": \"Computer Science\"\n",
    "}\n"
   ]
  },
  {
   "cell_type": "code",
   "execution_count": 9,
   "id": "04a830d8-bc90-498c-b784-8806621847aa",
   "metadata": {},
   "outputs": [],
   "source": [
    "# You can also write it one lin:\n",
    "student_info = {\"name\": \"Alice\", \"age\": 22,\"major\": \"Computer Science\"}"
   ]
  },
  {
   "cell_type": "code",
   "execution_count": 26,
   "id": "861d2ba8-b4fe-4642-9243-4da6ecd0e4a9",
   "metadata": {
    "scrolled": true
   },
   "outputs": [
    {
     "name": "stdout",
     "output_type": "stream",
     "text": [
      "Student Information: {'name': 'Alice', 'age': 22, 'major': 'Computer Science', 'GPA': 3.8}\n"
     ]
    }
   ],
   "source": [
    "# Let's print the dictionary\n",
    "print(\"Student Information:\", student_info)"
   ]
  },
  {
   "cell_type": "markdown",
   "id": "975cdfaf-e0cc-419e-adfa-359c61459fe2",
   "metadata": {},
   "source": [
    "\n",
    "## Accessing values\n",
    "\n",
    "To access a value, use the key inside square brackets or the get() method.\n"
   ]
  },
  {
   "cell_type": "code",
   "execution_count": 10,
   "id": "431d5681-499b-4e92-afca-849e32c2a309",
   "metadata": {},
   "outputs": [
    {
     "data": {
      "text/plain": [
       "'Alice'"
      ]
     },
     "execution_count": 10,
     "metadata": {},
     "output_type": "execute_result"
    }
   ],
   "source": [
    "# Accessing the 'name' key\n",
    "student_info[\"name\"]  # Using square brackets"
   ]
  },
  {
   "cell_type": "code",
   "execution_count": 12,
   "id": "72046d16-7382-4284-8660-9ff01af88cc4",
   "metadata": {},
   "outputs": [],
   "source": [
    "# Using the get() method (this is safer because it won't cause an error if the key doesn't exist)\n",
    "student_info.get(\"major\")"
   ]
  },
  {
   "cell_type": "code",
   "execution_count": 24,
   "id": "296320e5-5fe9-42e8-a72b-ecb0020c86bb",
   "metadata": {},
   "outputs": [
    {
     "data": {
      "text/plain": [
       "dict_keys(['name', 'age', 'major', 'GPA'])"
      ]
     },
     "execution_count": 24,
     "metadata": {},
     "output_type": "execute_result"
    }
   ],
   "source": [
    "# Print all the keys\n",
    "student_info.keys()"
   ]
  },
  {
   "cell_type": "code",
   "execution_count": 25,
   "id": "e638ed84-da06-4f48-a498-6ce1daa8de5d",
   "metadata": {},
   "outputs": [
    {
     "data": {
      "text/plain": [
       "dict_values(['Alice', 22, 'Computer Science', 3.8])"
      ]
     },
     "execution_count": 25,
     "metadata": {},
     "output_type": "execute_result"
    }
   ],
   "source": [
    "# Print all the values\n",
    "student_info.values()"
   ]
  },
  {
   "cell_type": "markdown",
   "id": "19711896-141d-4ccb-b6e6-be07242dd7d7",
   "metadata": {},
   "source": [
    "# Adding a new *key-value* pair"
   ]
  },
  {
   "cell_type": "code",
   "execution_count": 18,
   "id": "86e72128-4662-410b-9f7d-3563aead95af",
   "metadata": {},
   "outputs": [],
   "source": [
    "# Let's add the student's GPA to the dictionary\n",
    "student_info[\"GPA\"] = 3.8"
   ]
  },
  {
   "cell_type": "code",
   "execution_count": 17,
   "id": "da922a3d-cd83-4f83-aae7-b2cdad8a1fad",
   "metadata": {},
   "outputs": [
    {
     "name": "stdout",
     "output_type": "stream",
     "text": [
      "Updated Student Information: {'name': 'Alice', 'age': 22, 'major': 'Computer Science', 'GPA': 3.8}\n"
     ]
    }
   ],
   "source": [
    "# Now, the dictionary has one more key-value pair\n",
    "print(\"Updated Student Information:\", student_info)"
   ]
  },
  {
   "cell_type": "markdown",
   "id": "4b7a37e1-5b93-469a-84ed-720bed20d71b",
   "metadata": {},
   "source": [
    "# Modifying an existing value:\n"
   ]
  },
  {
   "cell_type": "code",
   "execution_count": null,
   "id": "a48566d7-6924-45a0-ab01-064cbd982fd0",
   "metadata": {},
   "outputs": [],
   "source": [
    "# Let's update the student's major\n",
    "student_info[\"major\"] = \"Data Science\"\n",
    "print(\"After Major Update:\", student_info)"
   ]
  },
  {
   "cell_type": "markdown",
   "id": "ec410780-5a15-4730-a54e-0e040862ee74",
   "metadata": {},
   "source": [
    "# Removing a key-value pair\n"
   ]
  },
  {
   "cell_type": "code",
   "execution_count": null,
   "id": "b3d3cc27-acbb-4e3b-860c-510d09199b34",
   "metadata": {},
   "outputs": [],
   "source": [
    "# We can use the pop() method to remove a key and get its value\n",
    "removed_value = student_info.pop(\"age\")\n",
    "print(\"Removed Age:\", removed_value)\n",
    "print(\"After Removing Age:\", student_info)"
   ]
  },
  {
   "cell_type": "markdown",
   "id": "f4b178a3-2c97-4206-bab1-2d99adabf0bf",
   "metadata": {},
   "source": [
    "# Looping through a dictionary\n",
    "You can loop through keys, values, or both"
   ]
  },
  {
   "cell_type": "code",
   "execution_count": 21,
   "id": "4d752b1c-e589-4ca8-80da-944989371b34",
   "metadata": {},
   "outputs": [
    {
     "name": "stdout",
     "output_type": "stream",
     "text": [
      "Key: name\n",
      "Key: age\n",
      "Key: major\n",
      "Key: GPA\n"
     ]
    }
   ],
   "source": [
    "# Looping through keys\n",
    "for key in student_info:\n",
    "    print(\"Key:\", key)\n"
   ]
  },
  {
   "cell_type": "code",
   "execution_count": 22,
   "id": "39fd715c-0b9c-4c0e-80d1-a6908ca3284f",
   "metadata": {},
   "outputs": [
    {
     "name": "stdout",
     "output_type": "stream",
     "text": [
      "Value: Alice\n",
      "Value: 22\n",
      "Value: Computer Science\n",
      "Value: 3.8\n"
     ]
    }
   ],
   "source": [
    "# Looping through values\n",
    "for value in student_info.values():\n",
    "    print(\"Value:\", value)"
   ]
  },
  {
   "cell_type": "code",
   "execution_count": 23,
   "id": "c0eb099c-4cbc-494d-b529-b180374d2194",
   "metadata": {},
   "outputs": [
    {
     "name": "stdout",
     "output_type": "stream",
     "text": [
      "name: Alice\n",
      "age: 22\n",
      "major: Computer Science\n",
      "GPA: 3.8\n"
     ]
    }
   ],
   "source": [
    "# Looping through both keys and values\n",
    "for key, value in student_info.items():\n",
    "    print(f\"{key}: {value}\")"
   ]
  }
 ],
 "metadata": {
  "kernelspec": {
   "display_name": "Python 3 (ipykernel)",
   "language": "python",
   "name": "python3"
  },
  "language_info": {
   "codemirror_mode": {
    "name": "ipython",
    "version": 3
   },
   "file_extension": ".py",
   "mimetype": "text/x-python",
   "name": "python",
   "nbconvert_exporter": "python",
   "pygments_lexer": "ipython3",
   "version": "3.13.1"
  }
 },
 "nbformat": 4,
 "nbformat_minor": 5
}

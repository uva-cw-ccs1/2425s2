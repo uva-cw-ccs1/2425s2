{
 "cells": [
  {
   "cell_type": "markdown",
   "id": "b0581867",
   "metadata": {},
   "source": [
    "# Methods & functions, debugging\n",
    "\n",
    "Welcome to the third week of the course. By the end of this week, you should acquire:\n",
    "\n",
    "**Knowledge on:**\n",
    "* Data types and data structures\n",
    "* Methods and functions\n",
    "\n",
    "**Skills on:**\n",
    "* Writing your own functions\n",
    "* Handling errors"
   ]
  },
  {
   "cell_type": "code",
   "execution_count": 18,
   "id": "53c1b814",
   "metadata": {},
   "outputs": [
    {
     "name": "stdout",
     "output_type": "stream",
     "text": [
      "ejhkrjkr\n"
     ]
    }
   ],
   "source": [
    "a = print('ejhkrjkr')"
   ]
  },
  {
   "cell_type": "code",
   "execution_count": 22,
   "id": "dd88dff5-1507-457f-a7ee-2973ebe5abf1",
   "metadata": {},
   "outputs": [
    {
     "name": "stdout",
     "output_type": "stream",
     "text": [
      "Help on built-in function len in module builtins:\n",
      "\n",
      "len(obj, /)\n",
      "    Return the number of items in a container.\n",
      "\n"
     ]
    }
   ],
   "source": [
    "help(len)"
   ]
  },
  {
   "cell_type": "code",
   "execution_count": 27,
   "id": "1e819798",
   "metadata": {},
   "outputs": [],
   "source": [
    "def addonetest(number):\n",
    "    if number<10:\n",
    "        return number+1\n",
    "    else:\n",
    "        return number+10"
   ]
  },
  {
   "cell_type": "code",
   "execution_count": 28,
   "id": "aaefbc0a",
   "metadata": {},
   "outputs": [
    {
     "name": "stdout",
     "output_type": "stream",
     "text": [
      "22\n"
     ]
    }
   ],
   "source": [
    "print(addonetest(12))"
   ]
  },
  {
   "cell_type": "code",
   "execution_count": 26,
   "id": "fee183a1",
   "metadata": {},
   "outputs": [
    {
     "data": {
      "text/plain": [
       "9"
      ]
     },
     "execution_count": 26,
     "metadata": {},
     "output_type": "execute_result"
    }
   ],
   "source": [
    "addonetest(8)"
   ]
  },
  {
   "cell_type": "code",
   "execution_count": 29,
   "id": "a22ca1e9-51d1-436e-932c-8c4e73e25261",
   "metadata": {},
   "outputs": [],
   "source": [
    "def add_two_things(number1, number2):\n",
    "    return number1 + number2"
   ]
  },
  {
   "cell_type": "code",
   "execution_count": 31,
   "id": "672fc26e-169f-48ea-881c-1a9e374b44c4",
   "metadata": {},
   "outputs": [
    {
     "data": {
      "text/plain": [
       "14"
      ]
     },
     "execution_count": 31,
     "metadata": {},
     "output_type": "execute_result"
    }
   ],
   "source": [
    "add_two_things(2, 12)"
   ]
  },
  {
   "cell_type": "code",
   "execution_count": 32,
   "id": "26b240d7-fe9f-4552-9910-cdb8660792b5",
   "metadata": {},
   "outputs": [],
   "source": [
    "def minus_one(hellokitty):\n",
    "    return hellokitty - 1"
   ]
  },
  {
   "cell_type": "code",
   "execution_count": 34,
   "id": "3dad85c7-0aa1-434c-bc4b-3c19ab8ada49",
   "metadata": {},
   "outputs": [],
   "source": [
    "def minus_two(hellokitty):\n",
    "    return hellokitty - 2"
   ]
  },
  {
   "cell_type": "code",
   "execution_count": 35,
   "id": "a81b6fb4-484e-42d7-852d-df792f618176",
   "metadata": {},
   "outputs": [
    {
     "data": {
      "text/plain": [
       "int"
      ]
     },
     "execution_count": 35,
     "metadata": {},
     "output_type": "execute_result"
    }
   ],
   "source": [
    "type(minus_two(2))"
   ]
  },
  {
   "cell_type": "code",
   "execution_count": null,
   "id": "055b664e",
   "metadata": {},
   "outputs": [],
   "source": [
    "def addoneprint(number):\n",
    "    print(number+1)"
   ]
  },
  {
   "cell_type": "code",
   "execution_count": null,
   "id": "4c24e552",
   "metadata": {},
   "outputs": [],
   "source": [
    "addoneprint(4)"
   ]
  },
  {
   "cell_type": "code",
   "execution_count": null,
   "id": "46a0a8f6",
   "metadata": {},
   "outputs": [],
   "source": [
    "a = addoneprint(4)\n",
    "print(a)"
   ]
  },
  {
   "cell_type": "code",
   "execution_count": null,
   "id": "d6cd5879",
   "metadata": {},
   "outputs": [],
   "source": [
    "def add(num1,num2):\n",
    "    newnumber = num1+num2\n",
    "    return newnumber"
   ]
  },
  {
   "cell_type": "code",
   "execution_count": null,
   "id": "f7e6953a",
   "metadata": {},
   "outputs": [],
   "source": [
    "result = add(2,5)\n",
    "print(result)"
   ]
  },
  {
   "cell_type": "code",
   "execution_count": null,
   "id": "1bece16a",
   "metadata": {},
   "outputs": [],
   "source": []
  },
  {
   "cell_type": "code",
   "execution_count": 51,
   "id": "2215d4f7",
   "metadata": {},
   "outputs": [],
   "source": [
    "from collections import Counter\n",
    "\n",
    "data = ['d','b','b','b','c','c','aaa']\n",
    "text_counter = Counter(data)"
   ]
  },
  {
   "cell_type": "code",
   "execution_count": null,
   "id": "90491b08-89bd-4f55-a85f-55d9eedb44ad",
   "metadata": {},
   "outputs": [],
   "source": [
    "help(Counter)"
   ]
  },
  {
   "cell_type": "code",
   "execution_count": 52,
   "id": "1c4a3ce1",
   "metadata": {},
   "outputs": [
    {
     "data": {
      "text/plain": [
       "[('b', 3), ('c', 2), ('d', 1), ('aaa', 1)]"
      ]
     },
     "execution_count": 52,
     "metadata": {},
     "output_type": "execute_result"
    }
   ],
   "source": [
    "text_counter.most_common(4)"
   ]
  },
  {
   "cell_type": "code",
   "execution_count": 48,
   "id": "a96817f9",
   "metadata": {},
   "outputs": [
    {
     "name": "stdout",
     "output_type": "stream",
     "text": [
      "b appears 3 times\n",
      "c appears 2 times\n",
      "aaagkejga appears 1 times\n"
     ]
    }
   ],
   "source": [
    "for mystring, frequency in c.most_common(3):\n",
    "    print(mystring,\"appears\",frequency,\"times\")"
   ]
  },
  {
   "cell_type": "code",
   "execution_count": null,
   "id": "28297d7c",
   "metadata": {},
   "outputs": [],
   "source": []
  },
  {
   "cell_type": "code",
   "execution_count": null,
   "id": "a8848696",
   "metadata": {},
   "outputs": [],
   "source": [
    "c  = 5\n",
    "print(c)"
   ]
  },
  {
   "cell_type": "code",
   "execution_count": 54,
   "id": "f7a151eb",
   "metadata": {},
   "outputs": [],
   "source": [
    "import math"
   ]
  },
  {
   "cell_type": "code",
   "execution_count": 64,
   "id": "58d9b628",
   "metadata": {},
   "outputs": [
    {
     "name": "stdin",
     "output_type": "stream",
     "text": [
      "Give me a number! \n"
     ]
    },
    {
     "ename": "ValueError",
     "evalue": "could not convert string to float: ''",
     "output_type": "error",
     "traceback": [
      "\u001b[0;31m---------------------------------------------------------------------------\u001b[0m",
      "\u001b[0;31mValueError\u001b[0m                                Traceback (most recent call last)",
      "Input \u001b[0;32mIn [64]\u001b[0m, in \u001b[0;36m<cell line: 1>\u001b[0;34m()\u001b[0m\n\u001b[0;32m----> 1\u001b[0m x \u001b[38;5;241m=\u001b[39m \u001b[38;5;28;43mfloat\u001b[39;49m\u001b[43m(\u001b[49m\u001b[38;5;28;43minput\u001b[39;49m\u001b[43m(\u001b[49m\u001b[38;5;124;43m\"\u001b[39;49m\u001b[38;5;124;43mGive me a number!\u001b[39;49m\u001b[38;5;124;43m\"\u001b[39;49m\u001b[43m)\u001b[49m\u001b[43m)\u001b[49m\n\u001b[1;32m      2\u001b[0m \u001b[38;5;28mprint\u001b[39m(math\u001b[38;5;241m.\u001b[39msqrt(x))\n",
      "\u001b[0;31mValueError\u001b[0m: could not convert string to float: ''"
     ]
    }
   ],
   "source": [
    "x = float(input(\"Give me a number!\"))\n",
    "print(math.sqrt(x))"
   ]
  },
  {
   "cell_type": "markdown",
   "id": "9e2a48f9",
   "metadata": {},
   "source": [
    "## Methods \n",
    "\n",
    "A method is a \"function\" that “belongs to” an object. "
   ]
  },
  {
   "cell_type": "code",
   "execution_count": 60,
   "id": "bdb20b60",
   "metadata": {},
   "outputs": [],
   "source": [
    "#Examples of methods for objects \n",
    "mystr = \"     This is an example of a string. Very short example.    \""
   ]
  },
  {
   "cell_type": "code",
   "execution_count": 61,
   "id": "b9609eee",
   "metadata": {},
   "outputs": [
    {
     "data": {
      "text/plain": [
       "'     this is an example of a string. very short example.    '"
      ]
     },
     "execution_count": 61,
     "metadata": {},
     "output_type": "execute_result"
    }
   ],
   "source": [
    "mystr.lower()"
   ]
  },
  {
   "cell_type": "code",
   "execution_count": 62,
   "id": "ff7e66d2",
   "metadata": {},
   "outputs": [
    {
     "data": {
      "text/plain": [
       "'this is an example of a string. very short example.'"
      ]
     },
     "execution_count": 62,
     "metadata": {},
     "output_type": "execute_result"
    }
   ],
   "source": [
    "mystr.lower().strip()"
   ]
  },
  {
   "cell_type": "markdown",
   "id": "0ef58b41",
   "metadata": {},
   "source": [
    "## Functions\n",
    "\n",
    "Functions are a way to repeat a certain activity multiple times in Python. They help you write a certain action once, and reuse it many times. As you can imagine, this is really powerful for data preparation. Let's see some examples."
   ]
  },
  {
   "cell_type": "markdown",
   "id": "c051e01e",
   "metadata": {},
   "source": [
    "### Built-in functions\n",
    "\n",
    "In pyhton, there are numerous functions that come with it or with different packages you install. "
   ]
  },
  {
   "cell_type": "code",
   "execution_count": 65,
   "id": "ecc39817",
   "metadata": {},
   "outputs": [
    {
     "data": {
      "text/plain": [
       "int"
      ]
     },
     "execution_count": 65,
     "metadata": {},
     "output_type": "execute_result"
    }
   ],
   "source": [
    "#Examples of functions for objects\n",
    "type(5)"
   ]
  },
  {
   "cell_type": "code",
   "execution_count": null,
   "id": "0a073e9b",
   "metadata": {},
   "outputs": [],
   "source": []
  },
  {
   "cell_type": "code",
   "execution_count": 66,
   "id": "8a07c74e",
   "metadata": {},
   "outputs": [],
   "source": [
    "#Examples of functions for lists\n",
    "numbers = [34,56,34,76,33,44]"
   ]
  },
  {
   "cell_type": "code",
   "execution_count": 68,
   "id": "b432ec3d",
   "metadata": {},
   "outputs": [
    {
     "data": {
      "text/plain": [
       "277"
      ]
     },
     "execution_count": 68,
     "metadata": {},
     "output_type": "execute_result"
    }
   ],
   "source": [
    "sum(numbers)"
   ]
  },
  {
   "cell_type": "markdown",
   "id": "14bb585d",
   "metadata": {},
   "source": [
    "### Write your own functions\n",
    "\n",
    "When you want to do a certain action that does not come with the built-in functions and you want to be able to execute this action many times, you can write your own function."
   ]
  },
  {
   "cell_type": "code",
   "execution_count": 69,
   "id": "ba6623f4",
   "metadata": {},
   "outputs": [],
   "source": [
    "#Function to add 1\n",
    "def addone(a):\n",
    "    a = int(a)\n",
    "    new_number = a+1\n",
    "    return new_number"
   ]
  },
  {
   "cell_type": "code",
   "execution_count": 70,
   "id": "4f0768d7",
   "metadata": {},
   "outputs": [
    {
     "data": {
      "text/plain": [
       "6"
      ]
     },
     "execution_count": 70,
     "metadata": {},
     "output_type": "execute_result"
    }
   ],
   "source": [
    "addone(\"5\")"
   ]
  },
  {
   "cell_type": "code",
   "execution_count": null,
   "id": "bde369b5",
   "metadata": {},
   "outputs": [],
   "source": [
    "# Looping over list and applying function \n",
    "numbers = [3,6,3,6,8,2]"
   ]
  },
  {
   "cell_type": "code",
   "execution_count": null,
   "id": "a0e5bb0b",
   "metadata": {},
   "outputs": [],
   "source": [
    "def get_data(dailylist):\n",
    "    for key,value in dailylist:\n",
    "        "
   ]
  },
  {
   "cell_type": "code",
   "execution_count": 74,
   "id": "b3029bb7",
   "metadata": {},
   "outputs": [],
   "source": [
    "dictionary_numbers = {1: \"one\", 2: \"two\"}"
   ]
  },
  {
   "cell_type": "code",
   "execution_count": 75,
   "id": "acf98078",
   "metadata": {},
   "outputs": [
    {
     "name": "stdout",
     "output_type": "stream",
     "text": [
      "1\n",
      "2\n",
      "2\n",
      "3\n"
     ]
    }
   ],
   "source": [
    "newnumbers=[]\n",
    "for k,v in dictionary_numbers.items():\n",
    "    print(k)\n",
    "    print(addone(k))\n",
    "    newnumbers.append(addone(k))"
   ]
  },
  {
   "cell_type": "code",
   "execution_count": 76,
   "id": "64074a57",
   "metadata": {},
   "outputs": [
    {
     "data": {
      "text/plain": [
       "[2, 3]"
      ]
     },
     "execution_count": 76,
     "metadata": {},
     "output_type": "execute_result"
    }
   ],
   "source": [
    "newnumbers"
   ]
  },
  {
   "cell_type": "markdown",
   "id": "2e9bbace",
   "metadata": {},
   "source": [
    "This may be going too fast. Let's look at the elements above that constitute a function.\n",
    "\n",
    "In the **first line**:\n",
    "* ```def``` indicates to Python that you are creating (defining) a function\n",
    "* ```add_one``` is the name of the function. You can give it any name you want, as long as (a) it does not start with a number or restricted character, (b) it does not have a space, and (c) it does not overlap with one of Python's basic commands.\n",
    "* ```(number)``` specifies the arguments that will be passed along to the function (i.e., that the function will use). It is up to you what name you give to the argument. A function can also be written without arguments - i.e., just ```()``` - but in this course we mostly will use arguments.\n",
    "* ```:``` don't forget this - as it indicates that the function has been defined, and what comes underneath is the function itself\n",
    "\n",
    "**After the first line**, notice the indent, i.e., that anything that happens inside the function is indented (with spaces) within the function. That way, Python knows until which line of the code belongs to the function.\n",
    "\n",
    "In this area, the function is being defined. The arguments - in our case, ```number``` - can then be used by the function in whatever operations we want to run. In this case, we are saying to add 1 to number or, in code, ```number = number + 1```.\n",
    "\n",
    "**In the last line of the function**, we have ```return```, which specifies what the function should return.\n",
    "\n",
    "\n",
    "\n",
    "\n",
    "\n",
    "\n"
   ]
  },
  {
   "cell_type": "code",
   "execution_count": null,
   "id": "e618a976",
   "metadata": {},
   "outputs": [],
   "source": [
    "#Function with two arguments - to add and miltiply\n",
    "def addone_multiply(number,multiplication):\n",
    "    new_number = (number + 1) * multiplication\n",
    "    return(new_number)"
   ]
  },
  {
   "cell_type": "code",
   "execution_count": null,
   "id": "3b02d5b3",
   "metadata": {},
   "outputs": [],
   "source": [
    "addone_multiply(7,5)"
   ]
  },
  {
   "cell_type": "code",
   "execution_count": null,
   "id": "428a9579",
   "metadata": {},
   "outputs": [],
   "source": [
    "# Looping over list and applying function \n",
    "numbers = [3,6,3,6,8,2]\n"
   ]
  },
  {
   "cell_type": "code",
   "execution_count": null,
   "id": "ddda07a8",
   "metadata": {},
   "outputs": [],
   "source": []
  },
  {
   "cell_type": "code",
   "execution_count": null,
   "id": "1376a779",
   "metadata": {},
   "outputs": [],
   "source": []
  },
  {
   "cell_type": "code",
   "execution_count": null,
   "id": "495d3592",
   "metadata": {},
   "outputs": [],
   "source": [
    "#Looping and saving to a new list\n"
   ]
  },
  {
   "cell_type": "code",
   "execution_count": null,
   "id": "1cc6407b",
   "metadata": {},
   "outputs": [],
   "source": []
  },
  {
   "cell_type": "code",
   "execution_count": null,
   "id": "65f11ad5",
   "metadata": {},
   "outputs": [],
   "source": [
    "#Looping over dict and applying function"
   ]
  },
  {
   "cell_type": "code",
   "execution_count": null,
   "id": "5339046f",
   "metadata": {},
   "outputs": [],
   "source": [
    "#What is the average grade of each student\n",
    "semester_grades = {\"Katy\": [6,8,6.5], \"Jim\":[8,7,7.5], \"Jamy\":[5.5,6,6], \"Julia\":[5.5,6,5.5], \"Amy\":6}"
   ]
  },
  {
   "cell_type": "code",
   "execution_count": null,
   "id": "7de6fa22",
   "metadata": {},
   "outputs": [],
   "source": []
  },
  {
   "cell_type": "code",
   "execution_count": null,
   "id": "66c53966-dbda-4d71-8489-b73e443aab7a",
   "metadata": {},
   "outputs": [],
   "source": []
  }
 ],
 "metadata": {
  "kernelspec": {
   "display_name": "Python 3 (ipykernel)",
   "language": "python",
   "name": "python3"
  },
  "language_info": {
   "codemirror_mode": {
    "name": "ipython",
    "version": 3
   },
   "file_extension": ".py",
   "mimetype": "text/x-python",
   "name": "python",
   "nbconvert_exporter": "python",
   "pygments_lexer": "ipython3",
   "version": "3.9.18"
  }
 },
 "nbformat": 4,
 "nbformat_minor": 5
}

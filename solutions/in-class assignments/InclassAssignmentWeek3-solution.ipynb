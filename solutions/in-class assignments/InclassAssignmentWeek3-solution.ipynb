{
 "cells": [
  {
   "cell_type": "markdown",
   "metadata": {},
   "source": [
    "### In-class assignment 1\n",
    "\n",
    "Student name:\n",
    "\n",
    "Student number:\n",
    "\n",
    "Now that you have learned data types and basic operations in Python, we will ask you to apply them in this assignment. The assignment will test your understanding and application of basic data types and control structures.\n",
    "\n",
    "* You are allowed to use your study materials (e.g., slides, literature, notebooks, solutions to weekly challenges) during the assignment. You are not allowed to use external sources.\n",
    "* It is strictly forbidden to communicate with other students during the examination.\n",
    "* When you are finished, double-check whether you answered all questions before uploading the assignment.\n",
    "* Carefully read the instructions and questions in this notebook!\n",
    "\n",
    "General instructions for answering the questions. Please read the instructions carefully:\n",
    "\n",
    "* This assignment consists of a Jupyter Notebook with 1 question, including sub-questions (a, b). Read all the questions carefully. Make sure you save the notebook locally before starting to answer the questions. Rename this file according to the following structure: \n",
    "LastName_Surname_StudentID_Coursename\n",
    "* Fill in your name and student number in the indicated space.\n",
    "* To answer the questions, write your answers in this notebook where indicated. Note that you can create as many code and markdown cells as you need.\n",
    "* Answer all questions and check upon completion if you really addressed all (sub-)questions.\n",
    "* Make sure to answer all questions in your own words.\n",
    "* You can obtain a maximum of 10 points. The points you can obtain for each question are provided at the respective question.\n",
    "\n",
    "Submission instructions:\n",
    "\n",
    "* Please upload the html version of the notebook on Canvas. \n",
    "* To do so, when the assignment is fully finished (and all the code executed), in Jupyter Lab, select File --> Export Notebook As --> Export Notebook to HTML. An html file will be generated (and probably downloaded to your Downloads folder). Upload this html file to Canvas. This file will be also used for the plagiarism check.\n",
    "* Make sure that the html file is names according to the following structure: \n",
    "LastName_Surname_StudentID_Coursename.html\n",
    "* If you cannot generate an HTML version from your Notebook (if the option disappeared), upload the notebook directly to Canvas. Please tell your lecturer about this.\n",
    "\n",
    "Good luck!\n"
   ]
  },
  {
   "cell_type": "markdown",
   "metadata": {},
   "source": [
    "### The task\n",
    "\n",
    "The dictionary below contains a fictional dataset from a news website. The dataset contains three characteristics for each article:\n",
    "\n",
    "* title of the article\n",
    "* category\n",
    "* number of reads\n",
    "\n",
    "Your tasks are to:\n",
    "\n",
    "1. Explore the data: what are the keys and values in the dictionary? What data types do they have? Write the necessary code to determine this AND provide an answer in markdown (3 points)\n",
    "2. Filter the dictionary: fill in blanks in the code provided by us so that it allows you to create a new smaller dictionary by only keeping articles that got **less than 500 reads** (4 points)\n",
    "\n",
    "For each line of code provide a very brief explanation what the code does (e.g., using #).\n",
    "\n",
    "***Before*** you start writing code, make a plan (3 points, see below).\n",
    "\n",
    "**Note**: To get full points, do not perform unncessary steps such as transforming the dictionary to a dataframe, if this is not needed (*hint: all tasks can be solved without pandas*)"
   ]
  },
  {
   "cell_type": "code",
   "execution_count": 1,
   "metadata": {},
   "outputs": [],
   "source": [
    "news_data = {'President Signs Landmark Climate Change Legislation': ['us politics', 456],\n",
    "            'Congress Passes Sweeping Voting Rights Reform Bill': ['us politics', 520],\n",
    "            'U.S. and China Reach Agreement on Trade Deal After Lengthy Negotiations': ['us politics', 1096],\n",
    "            'Serena Williams Wins Record 24th Grand Slam Title at Wimbledon': ['sports', 675],\n",
    "            'EU Reaches Historic Agreement on COVID-19 Recovery Fund': ['eu politics', 898],\n",
    "            'Taylor Swift Breaks Record for Most Billboard Music Awards Won by a Female Artist': ['entertainment', 456],\n",
    "            'French President Macron Announces Major Economic Reforms': ['eu politics', 1076],\n",
    "            'Tokyo Olympics Kicks Off with Spectacular Opening Ceremony': ['sports', 367],\n",
    "            'Prince Harry and Meghan Markle Step Back from Royal Duties': ['entertainment', 473],\n",
    "            'Italian Government Collapses as Prime Minister Resigns': ['eu politics', 864],\n",
    "            'World-Renowned Chef Gordon Ramsay Opens New Restaurant in London': ['cooking', 327],\n",
    "            'Polish Government Faces Backlash over Controversial Judicial Reforms': ['eu politics', 472],\n",
    "            'Cooking with CBD: Is the Trend Worth Trying or Just a Fad?': ['cooking', 524],\n",
    "            'Tiger Woods Returns to Form with Stunning Masters Victory': ['sports', 985],\n",
    "            'The Rise of Meal Kit Delivery Services: Convenience or Overpriced Gimmick?': ['cooking', 145],\n",
    "            'Innovative Kitchen Gadgets That Are Revolutionizing Home Cooking': ['cooking', 246],\n",
    "            'Hungary and EU Clash Over Controversial Migration Policies': ['eu politics', 1045],\n",
    "            'Angelina Jolie and Brad Pitt Divorce Proceedings Continue Amidst Custody Battle': ['entertainment', 389],\n",
    "            'Ellen DeGeneres Apologizes for Toxic Workplace Environment': ['entertainment', 542],\n",
    "            'Beyoncé Drops Surprise Album on Disney+ to Accompany \"Black Is King\" Visual Album': ['entertainment', 360]\n",
    "            }"
   ]
  },
  {
   "cell_type": "markdown",
   "metadata": {},
   "source": [
    "### Plan and explain your code (3 points)\n",
    "\n",
    "Before you start writing your code, we want you to think about the task at hand and plan it out. Please explain your overall strategy how you want to solve the task including what steps you will need to take. For each step, write in plain English what the Python code should do (it can be brief, in full sentences or bullet points, for example - not related to the task -  \"1. check data type and change it in case it is not int or float\"). This will help you when writing the code.\n",
    "\n",
    "*Note: there are different correct answers to this question. We want to understand your reasoning, and will accept different answers depending on the logic and clarity of the steps described.*"
   ]
  },
  {
   "cell_type": "markdown",
   "metadata": {},
   "source": [
    "Your plan goes here:"
   ]
  },
  {
   "cell_type": "markdown",
   "metadata": {},
   "source": [
    "1. Exploring the dict\n",
    "- To understand the content of the dictionary\n",
    "    - Identify the keys in the dictionary using .keys()\n",
    "    - Inspect the values and their types using .values()\n",
    "- Write Python code to determine:\n",
    "    - The data type of keys and values using the type() function\n",
    "\n",
    "\n",
    "2. Filtering the dict\n",
    "- Create a new dictionary\n",
    "- Iterate through the dictionary (for loop)\n",
    "- Access each article's \"reads\" value (second element of value list)\n",
    "- Apply a condition to keep only articles with less than 500 reads.\n",
    "- Add the articles that meet the condition to the new dict, pass the rest"
   ]
  },
  {
   "cell_type": "markdown",
   "metadata": {},
   "source": [
    "###  Coding (7 points)\n",
    "\n",
    "You have two coding tasks.\n",
    "\n",
    "#### 1. Exploring the dictionary\n",
    "What are the keys and values in the dictionary? What data types do they have? \n",
    "\n",
    "Write the necessary code to determine this AND provide an answer in markdown.\n",
    "\n",
    "*Do not forget to documment your code shortly.*"
   ]
  },
  {
   "cell_type": "code",
   "execution_count": null,
   "metadata": {},
   "outputs": [
    {
     "name": "stdout",
     "output_type": "stream",
     "text": [
      "dict_keys(['President Signs Landmark Climate Change Legislation', 'Congress Passes Sweeping Voting Rights Reform Bill', 'U.S. and China Reach Agreement on Trade Deal After Lengthy Negotiations', 'Serena Williams Wins Record 24th Grand Slam Title at Wimbledon', 'EU Reaches Historic Agreement on COVID-19 Recovery Fund', 'Taylor Swift Breaks Record for Most Billboard Music Awards Won by a Female Artist', 'French President Macron Announces Major Economic Reforms', 'Tokyo Olympics Kicks Off with Spectacular Opening Ceremony', 'Prince Harry and Meghan Markle Step Back from Royal Duties', 'Italian Government Collapses as Prime Minister Resigns', 'World-Renowned Chef Gordon Ramsay Opens New Restaurant in London', 'Polish Government Faces Backlash over Controversial Judicial Reforms', 'Cooking with CBD: Is the Trend Worth Trying or Just a Fad?', 'Tiger Woods Returns to Form with Stunning Masters Victory', 'The Rise of Meal Kit Delivery Services: Convenience or Overpriced Gimmick?', 'Innovative Kitchen Gadgets That Are Revolutionizing Home Cooking', 'Hungary and EU Clash Over Controversial Migration Policies', 'Angelina Jolie and Brad Pitt Divorce Proceedings Continue Amidst Custody Battle', 'Ellen DeGeneres Apologizes for Toxic Workplace Environment', 'Beyoncé Drops Surprise Album on Disney+ to Accompany \"Black Is King\" Visual Album'])\n"
     ]
    }
   ],
   "source": [
    "# Print the keys of the dictionary\n",
    "print(news_data.keys())  "
   ]
  },
  {
   "cell_type": "code",
   "execution_count": null,
   "metadata": {},
   "outputs": [
    {
     "name": "stdout",
     "output_type": "stream",
     "text": [
      "dict_values([['us politics', 456], ['us politics', 520], ['us politics', 1096], ['sports', 675], ['eu politics', 898], ['entertainment', 456], ['eu politics', 1076], ['sports', 367], ['entertainment', 473], ['eu politics', 864], ['cooking', 327], ['eu politics', 472], ['cooking', 524], ['sports', 985], ['cooking', 145], ['cooking', 246], ['eu politics', 1045], ['entertainment', 389], ['entertainment', 542], ['entertainment', 360]])\n"
     ]
    }
   ],
   "source": [
    "# Print the values of the dictionary\n",
    "print(news_data.values())"
   ]
  },
  {
   "cell_type": "code",
   "execution_count": 4,
   "metadata": {},
   "outputs": [
    {
     "name": "stdout",
     "output_type": "stream",
     "text": [
      "Key: President Signs Landmark Climate Change Legislation, Type: <class 'str'>, Value Type: <class 'list'>\n",
      "Key: Congress Passes Sweeping Voting Rights Reform Bill, Type: <class 'str'>, Value Type: <class 'list'>\n",
      "Key: U.S. and China Reach Agreement on Trade Deal After Lengthy Negotiations, Type: <class 'str'>, Value Type: <class 'list'>\n",
      "Key: Serena Williams Wins Record 24th Grand Slam Title at Wimbledon, Type: <class 'str'>, Value Type: <class 'list'>\n",
      "Key: EU Reaches Historic Agreement on COVID-19 Recovery Fund, Type: <class 'str'>, Value Type: <class 'list'>\n",
      "Key: Taylor Swift Breaks Record for Most Billboard Music Awards Won by a Female Artist, Type: <class 'str'>, Value Type: <class 'list'>\n",
      "Key: French President Macron Announces Major Economic Reforms, Type: <class 'str'>, Value Type: <class 'list'>\n",
      "Key: Tokyo Olympics Kicks Off with Spectacular Opening Ceremony, Type: <class 'str'>, Value Type: <class 'list'>\n",
      "Key: Prince Harry and Meghan Markle Step Back from Royal Duties, Type: <class 'str'>, Value Type: <class 'list'>\n",
      "Key: Italian Government Collapses as Prime Minister Resigns, Type: <class 'str'>, Value Type: <class 'list'>\n",
      "Key: World-Renowned Chef Gordon Ramsay Opens New Restaurant in London, Type: <class 'str'>, Value Type: <class 'list'>\n",
      "Key: Polish Government Faces Backlash over Controversial Judicial Reforms, Type: <class 'str'>, Value Type: <class 'list'>\n",
      "Key: Cooking with CBD: Is the Trend Worth Trying or Just a Fad?, Type: <class 'str'>, Value Type: <class 'list'>\n",
      "Key: Tiger Woods Returns to Form with Stunning Masters Victory, Type: <class 'str'>, Value Type: <class 'list'>\n",
      "Key: The Rise of Meal Kit Delivery Services: Convenience or Overpriced Gimmick?, Type: <class 'str'>, Value Type: <class 'list'>\n",
      "Key: Innovative Kitchen Gadgets That Are Revolutionizing Home Cooking, Type: <class 'str'>, Value Type: <class 'list'>\n",
      "Key: Hungary and EU Clash Over Controversial Migration Policies, Type: <class 'str'>, Value Type: <class 'list'>\n",
      "Key: Angelina Jolie and Brad Pitt Divorce Proceedings Continue Amidst Custody Battle, Type: <class 'str'>, Value Type: <class 'list'>\n",
      "Key: Ellen DeGeneres Apologizes for Toxic Workplace Environment, Type: <class 'str'>, Value Type: <class 'list'>\n",
      "Key: Beyoncé Drops Surprise Album on Disney+ to Accompany \"Black Is King\" Visual Album, Type: <class 'str'>, Value Type: <class 'list'>\n"
     ]
    }
   ],
   "source": [
    "# Print data types of keys and values\n",
    "for key, value in news_data.items():\n",
    "    print(f\"Key: {key}, Type: {type(key)}, Value Type: {type(value)}\")"
   ]
  },
  {
   "cell_type": "markdown",
   "metadata": {},
   "source": [
    "Your answer in markdown goes here:\n",
    "\n"
   ]
  },
  {
   "cell_type": "markdown",
   "metadata": {},
   "source": [
    "#### 2. Filtering the dictionary\n",
    "Your second task is to filter the dictionary. You are asked to create a new smaller dictionary called `lessread` by only keeping articles that got less than 500 reads. Fill in the blanks in the code below to make it work for this task. Make sure to test if the code works.\n",
    "\n",
    "For each line of code provide a very brief explanation what the code does (e.g., using #)."
   ]
  },
  {
   "cell_type": "code",
   "execution_count": null,
   "metadata": {},
   "outputs": [],
   "source": [
    "#Fill in the blanks in the function below \n",
    "#Make sure to replace _____ in blanks with code\n",
    "\n",
    "lessread = {} # Initialize an empty dictionary for filtered results\n",
    "\n",
    "for key,value in news_data.items(): # Iterate over key-value pairs in dictionary\n",
    "    if value[1] < 500: # Check if the value at index 1 is less than 500\n",
    "        lessread[key] = value # Add the key-value pair to the new dictionary\n",
    "    else:\n",
    "        pass # If the value is not less than 500, do nothing"
   ]
  },
  {
   "cell_type": "code",
   "execution_count": null,
   "metadata": {},
   "outputs": [
    {
     "data": {
      "text/plain": [
       "{'President Signs Landmark Climate Change Legislation': ['us politics', 456],\n",
       " 'Taylor Swift Breaks Record for Most Billboard Music Awards Won by a Female Artist': ['entertainment',\n",
       "  456],\n",
       " 'Tokyo Olympics Kicks Off with Spectacular Opening Ceremony': ['sports', 367],\n",
       " 'Prince Harry and Meghan Markle Step Back from Royal Duties': ['entertainment',\n",
       "  473],\n",
       " 'World-Renowned Chef Gordon Ramsay Opens New Restaurant in London': ['cooking',\n",
       "  327],\n",
       " 'Polish Government Faces Backlash over Controversial Judicial Reforms': ['eu politics',\n",
       "  472],\n",
       " 'The Rise of Meal Kit Delivery Services: Convenience or Overpriced Gimmick?': ['cooking',\n",
       "  145],\n",
       " 'Innovative Kitchen Gadgets That Are Revolutionizing Home Cooking': ['cooking',\n",
       "  246],\n",
       " 'Angelina Jolie and Brad Pitt Divorce Proceedings Continue Amidst Custody Battle': ['entertainment',\n",
       "  389],\n",
       " 'Beyoncé Drops Surprise Album on Disney+ to Accompany \"Black Is King\" Visual Album': ['entertainment',\n",
       "  360]}"
      ]
     },
     "execution_count": 6,
     "metadata": {},
     "output_type": "execute_result"
    }
   ],
   "source": [
    "# Print the new dictionary\n",
    "lessread"
   ]
  },
  {
   "cell_type": "code",
   "execution_count": null,
   "metadata": {},
   "outputs": [],
   "source": []
  }
 ],
 "metadata": {
  "kernelspec": {
   "display_name": "Python 3",
   "language": "python",
   "name": "python3"
  },
  "language_info": {
   "codemirror_mode": {
    "name": "ipython",
    "version": 3
   },
   "file_extension": ".py",
   "mimetype": "text/x-python",
   "name": "python",
   "nbconvert_exporter": "python",
   "pygments_lexer": "ipython3",
   "version": "3.9.1"
  }
 },
 "nbformat": 4,
 "nbformat_minor": 4
}

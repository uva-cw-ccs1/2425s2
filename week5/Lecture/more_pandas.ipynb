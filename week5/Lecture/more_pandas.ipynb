{
 "cells": [
  {
   "cell_type": "code",
   "execution_count": 1,
   "id": "round-container",
   "metadata": {},
   "outputs": [],
   "source": [
    "import pandas as pd"
   ]
  },
  {
   "cell_type": "code",
   "execution_count": 26,
   "id": "cardiac-silicon",
   "metadata": {},
   "outputs": [],
   "source": [
    "df_citation = pd.read_csv(\"citation.csv\")"
   ]
  },
  {
   "cell_type": "code",
   "execution_count": 27,
   "id": "prescribed-lancaster",
   "metadata": {},
   "outputs": [
    {
     "data": {
      "text/html": [
       "<div>\n",
       "<style scoped>\n",
       "    .dataframe tbody tr th:only-of-type {\n",
       "        vertical-align: middle;\n",
       "    }\n",
       "\n",
       "    .dataframe tbody tr th {\n",
       "        vertical-align: top;\n",
       "    }\n",
       "\n",
       "    .dataframe thead th {\n",
       "        text-align: right;\n",
       "    }\n",
       "</style>\n",
       "<table border=\"1\" class=\"dataframe\">\n",
       "  <thead>\n",
       "    <tr style=\"text-align: right;\">\n",
       "      <th></th>\n",
       "      <th>doi</th>\n",
       "      <th>times_cited</th>\n",
       "    </tr>\n",
       "  </thead>\n",
       "  <tbody>\n",
       "    <tr>\n",
       "      <th>0</th>\n",
       "      <td>10.1177/20563051221138753</td>\n",
       "      <td>9</td>\n",
       "    </tr>\n",
       "    <tr>\n",
       "      <th>1</th>\n",
       "      <td>10.1177/20563051221138758</td>\n",
       "      <td>4</td>\n",
       "    </tr>\n",
       "    <tr>\n",
       "      <th>2</th>\n",
       "      <td>10.1177/2056305117733224</td>\n",
       "      <td>32</td>\n",
       "    </tr>\n",
       "    <tr>\n",
       "      <th>3</th>\n",
       "      <td>10.1177/2056305120949268</td>\n",
       "      <td>1</td>\n",
       "    </tr>\n",
       "    <tr>\n",
       "      <th>4</th>\n",
       "      <td>10.1177/2056305119898778</td>\n",
       "      <td>17</td>\n",
       "    </tr>\n",
       "  </tbody>\n",
       "</table>\n",
       "</div>"
      ],
      "text/plain": [
       "                         doi  times_cited\n",
       "0  10.1177/20563051221138753            9\n",
       "1  10.1177/20563051221138758            4\n",
       "2   10.1177/2056305117733224           32\n",
       "3   10.1177/2056305120949268            1\n",
       "4   10.1177/2056305119898778           17"
      ]
     },
     "execution_count": 27,
     "metadata": {},
     "output_type": "execute_result"
    }
   ],
   "source": [
    "#Show first 5 rows\n",
    "df_citation.head()"
   ]
  },
  {
   "cell_type": "code",
   "execution_count": 28,
   "id": "bddb59f1",
   "metadata": {},
   "outputs": [
    {
     "data": {
      "text/plain": [
       "Index(['doi', 'times_cited'], dtype='object')"
      ]
     },
     "execution_count": 28,
     "metadata": {},
     "output_type": "execute_result"
    }
   ],
   "source": [
    "#Show columns\n",
    "df_citation.columns"
   ]
  },
  {
   "cell_type": "code",
   "execution_count": 29,
   "id": "74bfcccf",
   "metadata": {},
   "outputs": [
    {
     "data": {
      "text/plain": [
       "doi            object\n",
       "times_cited     int64\n",
       "dtype: object"
      ]
     },
     "execution_count": 29,
     "metadata": {},
     "output_type": "execute_result"
    }
   ],
   "source": [
    "#Show dtypes\n",
    "df_citation.dtypes"
   ]
  },
  {
   "cell_type": "code",
   "execution_count": 30,
   "id": "5b916d51",
   "metadata": {},
   "outputs": [
    {
     "data": {
      "text/plain": [
       "doi            0\n",
       "times_cited    0\n",
       "dtype: int64"
      ]
     },
     "execution_count": 30,
     "metadata": {},
     "output_type": "execute_result"
    }
   ],
   "source": [
    "#Show missing\n",
    "df_citation.isna().sum()"
   ]
  },
  {
   "cell_type": "code",
   "execution_count": 31,
   "id": "8fb0fd6f",
   "metadata": {},
   "outputs": [
    {
     "data": {
      "text/plain": [
       "count    473.000000\n",
       "mean      31.818182\n",
       "std       62.853380\n",
       "min        0.000000\n",
       "25%        4.000000\n",
       "50%       14.000000\n",
       "75%       35.000000\n",
       "max      789.000000\n",
       "Name: times_cited, dtype: float64"
      ]
     },
     "execution_count": 31,
     "metadata": {},
     "output_type": "execute_result"
    }
   ],
   "source": [
    "# 1. calculating mean for trusted to have a cut-off point\n",
    "\n",
    "df_citation['times_cited'].describe()"
   ]
  },
  {
   "cell_type": "code",
   "execution_count": 32,
   "id": "broken-hampshire",
   "metadata": {},
   "outputs": [],
   "source": [
    "# Function to classify as highly cited if above average\n",
    "\n",
    "# cut-off = 31.818182\n",
    "\n",
    "def highlycited(citations):\n",
    "    if citations >= 31.818182:\n",
    "        return True\n",
    "    else:\n",
    "        return False"
   ]
  },
  {
   "cell_type": "code",
   "execution_count": 36,
   "id": "2f7bf51d-ad2b-4c56-a392-b073da32ab82",
   "metadata": {},
   "outputs": [],
   "source": [
    "# Here I am going to show you THREE ways to do the same thing (pick one to use):\n",
    "\n",
    "# First we clear a list\n",
    "is_highlycited = []\n",
    "for i in df_citation['times_cited']:\n",
    "    is_highlycited.append(highlycited(i))"
   ]
  },
  {
   "cell_type": "code",
   "execution_count": null,
   "id": "392bd913-eab0-4eaa-b3fb-23009d083114",
   "metadata": {},
   "outputs": [],
   "source": [
    "# Next we put the list as a new column\n",
    "df_citation['is_highlycited'] = is_highlycited"
   ]
  },
  {
   "cell_type": "code",
   "execution_count": 38,
   "id": "8f35421c-cdd9-4784-82d1-4bac8a755ae2",
   "metadata": {},
   "outputs": [],
   "source": [
    "df_citation['is_highlycited2'] = [highlycited(x) for x in df_citation['times_cited']]"
   ]
  },
  {
   "cell_type": "code",
   "execution_count": 39,
   "id": "9671f3c0",
   "metadata": {},
   "outputs": [],
   "source": [
    "df_citation['is_highlycited3'] = df_citation['times_cited'].apply(highlycited)"
   ]
  },
  {
   "cell_type": "code",
   "execution_count": 40,
   "id": "8c8b7c2d",
   "metadata": {},
   "outputs": [
    {
     "data": {
      "text/html": [
       "<div>\n",
       "<style scoped>\n",
       "    .dataframe tbody tr th:only-of-type {\n",
       "        vertical-align: middle;\n",
       "    }\n",
       "\n",
       "    .dataframe tbody tr th {\n",
       "        vertical-align: top;\n",
       "    }\n",
       "\n",
       "    .dataframe thead th {\n",
       "        text-align: right;\n",
       "    }\n",
       "</style>\n",
       "<table border=\"1\" class=\"dataframe\">\n",
       "  <thead>\n",
       "    <tr style=\"text-align: right;\">\n",
       "      <th></th>\n",
       "      <th>doi</th>\n",
       "      <th>times_cited</th>\n",
       "      <th>is_highlycited</th>\n",
       "      <th>is_highlycited2</th>\n",
       "      <th>is_highlycited3</th>\n",
       "    </tr>\n",
       "  </thead>\n",
       "  <tbody>\n",
       "    <tr>\n",
       "      <th>0</th>\n",
       "      <td>10.1177/20563051221138753</td>\n",
       "      <td>9</td>\n",
       "      <td>False</td>\n",
       "      <td>False</td>\n",
       "      <td>False</td>\n",
       "    </tr>\n",
       "    <tr>\n",
       "      <th>1</th>\n",
       "      <td>10.1177/20563051221138758</td>\n",
       "      <td>4</td>\n",
       "      <td>False</td>\n",
       "      <td>False</td>\n",
       "      <td>False</td>\n",
       "    </tr>\n",
       "    <tr>\n",
       "      <th>2</th>\n",
       "      <td>10.1177/2056305117733224</td>\n",
       "      <td>32</td>\n",
       "      <td>True</td>\n",
       "      <td>True</td>\n",
       "      <td>True</td>\n",
       "    </tr>\n",
       "    <tr>\n",
       "      <th>3</th>\n",
       "      <td>10.1177/2056305120949268</td>\n",
       "      <td>1</td>\n",
       "      <td>False</td>\n",
       "      <td>False</td>\n",
       "      <td>False</td>\n",
       "    </tr>\n",
       "    <tr>\n",
       "      <th>4</th>\n",
       "      <td>10.1177/2056305119898778</td>\n",
       "      <td>17</td>\n",
       "      <td>False</td>\n",
       "      <td>False</td>\n",
       "      <td>False</td>\n",
       "    </tr>\n",
       "  </tbody>\n",
       "</table>\n",
       "</div>"
      ],
      "text/plain": [
       "                         doi  times_cited  is_highlycited  is_highlycited2  \\\n",
       "0  10.1177/20563051221138753            9           False            False   \n",
       "1  10.1177/20563051221138758            4           False            False   \n",
       "2   10.1177/2056305117733224           32            True             True   \n",
       "3   10.1177/2056305120949268            1           False            False   \n",
       "4   10.1177/2056305119898778           17           False            False   \n",
       "\n",
       "   is_highlycited3  \n",
       "0            False  \n",
       "1            False  \n",
       "2             True  \n",
       "3            False  \n",
       "4            False  "
      ]
     },
     "execution_count": 40,
     "metadata": {},
     "output_type": "execute_result"
    }
   ],
   "source": [
    "df_citation.head()"
   ]
  },
  {
   "cell_type": "code",
   "execution_count": 42,
   "id": "a23650b4",
   "metadata": {},
   "outputs": [
    {
     "data": {
      "text/plain": [
       "is_highlycited\n",
       "False    337\n",
       "True     136\n",
       "Name: count, dtype: int64"
      ]
     },
     "execution_count": 42,
     "metadata": {},
     "output_type": "execute_result"
    }
   ],
   "source": [
    "df_citation['is_highlycited'].value_counts()"
   ]
  },
  {
   "cell_type": "markdown",
   "id": "85ef4118-05cd-4379-9b38-62bfc5d49360",
   "metadata": {},
   "source": [
    "### Question: What to do if I want a smaller dataset, with only highly cited articles?"
   ]
  },
  {
   "cell_type": "code",
   "execution_count": null,
   "id": "e63050a1-6a18-4b21-8098-260d3c9e34ea",
   "metadata": {},
   "outputs": [],
   "source": [
    "# What is the symbol to use?\n",
    "# What is the condition\n",
    "\n"
   ]
  },
  {
   "cell_type": "markdown",
   "id": "037cb4c6-7c4a-47b7-a4f8-a0f78781b2ff",
   "metadata": {},
   "source": [
    "## Merging"
   ]
  },
  {
   "cell_type": "code",
   "execution_count": 44,
   "id": "78279318",
   "metadata": {},
   "outputs": [],
   "source": [
    "df_article = pd.read_csv(\"article_info.csv\")"
   ]
  },
  {
   "cell_type": "code",
   "execution_count": 45,
   "id": "54d128dd",
   "metadata": {},
   "outputs": [
    {
     "data": {
      "text/html": [
       "<div>\n",
       "<style scoped>\n",
       "    .dataframe tbody tr th:only-of-type {\n",
       "        vertical-align: middle;\n",
       "    }\n",
       "\n",
       "    .dataframe tbody tr th {\n",
       "        vertical-align: top;\n",
       "    }\n",
       "\n",
       "    .dataframe thead th {\n",
       "        text-align: right;\n",
       "    }\n",
       "</style>\n",
       "<table border=\"1\" class=\"dataframe\">\n",
       "  <thead>\n",
       "    <tr style=\"text-align: right;\">\n",
       "      <th></th>\n",
       "      <th>doi</th>\n",
       "      <th>title</th>\n",
       "      <th>abstract</th>\n",
       "      <th>year</th>\n",
       "      <th>journal.title</th>\n",
       "    </tr>\n",
       "  </thead>\n",
       "  <tbody>\n",
       "    <tr>\n",
       "      <th>0</th>\n",
       "      <td>10.1177/20563051221138753</td>\n",
       "      <td>Discursive Strategies of Blaming: The Language...</td>\n",
       "      <td>Modern politics is permeated by blame games-sy...</td>\n",
       "      <td>2022</td>\n",
       "      <td>Social Media + Society</td>\n",
       "    </tr>\n",
       "    <tr>\n",
       "      <th>1</th>\n",
       "      <td>10.1177/20563051221138758</td>\n",
       "      <td>Hate Speech in a Telegram Conspiracy Channel D...</td>\n",
       "      <td>Research has explored how the COVID-19 pandemi...</td>\n",
       "      <td>2022</td>\n",
       "      <td>Social Media + Society</td>\n",
       "    </tr>\n",
       "    <tr>\n",
       "      <th>2</th>\n",
       "      <td>10.1177/2056305117733224</td>\n",
       "      <td>Twitter and Non-Elites: Interpreting Power Dyn...</td>\n",
       "      <td>In May 2013 and March 2015, actress Angelina J...</td>\n",
       "      <td>2017</td>\n",
       "      <td>Social Media + Society</td>\n",
       "    </tr>\n",
       "    <tr>\n",
       "      <th>3</th>\n",
       "      <td>10.1177/2056305120949268</td>\n",
       "      <td>“Mischievous Uncles” as Rule Breakers: Interse...</td>\n",
       "      <td>Responses to crises can highlight and exacerba...</td>\n",
       "      <td>2020</td>\n",
       "      <td>Social Media + Society</td>\n",
       "    </tr>\n",
       "    <tr>\n",
       "      <th>4</th>\n",
       "      <td>10.1177/2056305119898778</td>\n",
       "      <td>Building Social Media Observatories for Monito...</td>\n",
       "      <td>Social media house a trove of relevant informa...</td>\n",
       "      <td>2020</td>\n",
       "      <td>Social Media + Society</td>\n",
       "    </tr>\n",
       "  </tbody>\n",
       "</table>\n",
       "</div>"
      ],
      "text/plain": [
       "                         doi  \\\n",
       "0  10.1177/20563051221138753   \n",
       "1  10.1177/20563051221138758   \n",
       "2   10.1177/2056305117733224   \n",
       "3   10.1177/2056305120949268   \n",
       "4   10.1177/2056305119898778   \n",
       "\n",
       "                                               title  \\\n",
       "0  Discursive Strategies of Blaming: The Language...   \n",
       "1  Hate Speech in a Telegram Conspiracy Channel D...   \n",
       "2  Twitter and Non-Elites: Interpreting Power Dyn...   \n",
       "3  “Mischievous Uncles” as Rule Breakers: Interse...   \n",
       "4  Building Social Media Observatories for Monito...   \n",
       "\n",
       "                                            abstract  year  \\\n",
       "0  Modern politics is permeated by blame games-sy...  2022   \n",
       "1  Research has explored how the COVID-19 pandemi...  2022   \n",
       "2  In May 2013 and March 2015, actress Angelina J...  2017   \n",
       "3  Responses to crises can highlight and exacerba...  2020   \n",
       "4  Social media house a trove of relevant informa...  2020   \n",
       "\n",
       "            journal.title  \n",
       "0  Social Media + Society  \n",
       "1  Social Media + Society  \n",
       "2  Social Media + Society  \n",
       "3  Social Media + Society  \n",
       "4  Social Media + Society  "
      ]
     },
     "execution_count": 45,
     "metadata": {},
     "output_type": "execute_result"
    }
   ],
   "source": [
    "df_article.head()"
   ]
  },
  {
   "cell_type": "code",
   "execution_count": 48,
   "id": "82949655",
   "metadata": {},
   "outputs": [
    {
     "data": {
      "text/plain": [
       "Index(['doi', 'title', 'abstract', 'year', 'journal.title'], dtype='object')"
      ]
     },
     "execution_count": 48,
     "metadata": {},
     "output_type": "execute_result"
    }
   ],
   "source": [
    "df_article.columns"
   ]
  },
  {
   "cell_type": "code",
   "execution_count": 49,
   "id": "f1ac4618",
   "metadata": {},
   "outputs": [
    {
     "data": {
      "text/plain": [
       "doi              object\n",
       "title            object\n",
       "abstract         object\n",
       "year              int64\n",
       "journal.title    object\n",
       "dtype: object"
      ]
     },
     "execution_count": 49,
     "metadata": {},
     "output_type": "execute_result"
    }
   ],
   "source": [
    "df_article.dtypes"
   ]
  },
  {
   "cell_type": "code",
   "execution_count": 50,
   "id": "20fc5c8c-e454-41d5-aae3-88abe6e4079d",
   "metadata": {},
   "outputs": [
    {
     "data": {
      "text/plain": [
       "doi               0\n",
       "title             0\n",
       "abstract         21\n",
       "year              0\n",
       "journal.title     0\n",
       "dtype: int64"
      ]
     },
     "execution_count": 50,
     "metadata": {},
     "output_type": "execute_result"
    }
   ],
   "source": [
    "df_article.isna().sum()"
   ]
  },
  {
   "cell_type": "code",
   "execution_count": 51,
   "id": "ea81d35d-31db-48bf-b18e-d3a2f42748dd",
   "metadata": {},
   "outputs": [],
   "source": [
    "df_full = pd.merge(df_citation, df_article, how = 'left', left_on = 'doi', right_on='doi')"
   ]
  },
  {
   "cell_type": "code",
   "execution_count": 52,
   "id": "a42ce866-c205-475c-a044-a1cbbcde006a",
   "metadata": {},
   "outputs": [
    {
     "data": {
      "text/html": [
       "<div>\n",
       "<style scoped>\n",
       "    .dataframe tbody tr th:only-of-type {\n",
       "        vertical-align: middle;\n",
       "    }\n",
       "\n",
       "    .dataframe tbody tr th {\n",
       "        vertical-align: top;\n",
       "    }\n",
       "\n",
       "    .dataframe thead th {\n",
       "        text-align: right;\n",
       "    }\n",
       "</style>\n",
       "<table border=\"1\" class=\"dataframe\">\n",
       "  <thead>\n",
       "    <tr style=\"text-align: right;\">\n",
       "      <th></th>\n",
       "      <th>doi</th>\n",
       "      <th>times_cited</th>\n",
       "      <th>is_highlycited</th>\n",
       "      <th>is_highlycited2</th>\n",
       "      <th>is_highlycited3</th>\n",
       "      <th>title</th>\n",
       "      <th>abstract</th>\n",
       "      <th>year</th>\n",
       "      <th>journal.title</th>\n",
       "    </tr>\n",
       "  </thead>\n",
       "  <tbody>\n",
       "    <tr>\n",
       "      <th>0</th>\n",
       "      <td>10.1177/20563051221138753</td>\n",
       "      <td>9</td>\n",
       "      <td>False</td>\n",
       "      <td>False</td>\n",
       "      <td>False</td>\n",
       "      <td>Discursive Strategies of Blaming: The Language...</td>\n",
       "      <td>Modern politics is permeated by blame games-sy...</td>\n",
       "      <td>2022</td>\n",
       "      <td>Social Media + Society</td>\n",
       "    </tr>\n",
       "    <tr>\n",
       "      <th>1</th>\n",
       "      <td>10.1177/20563051221138758</td>\n",
       "      <td>4</td>\n",
       "      <td>False</td>\n",
       "      <td>False</td>\n",
       "      <td>False</td>\n",
       "      <td>Hate Speech in a Telegram Conspiracy Channel D...</td>\n",
       "      <td>Research has explored how the COVID-19 pandemi...</td>\n",
       "      <td>2022</td>\n",
       "      <td>Social Media + Society</td>\n",
       "    </tr>\n",
       "    <tr>\n",
       "      <th>2</th>\n",
       "      <td>10.1177/2056305117733224</td>\n",
       "      <td>32</td>\n",
       "      <td>True</td>\n",
       "      <td>True</td>\n",
       "      <td>True</td>\n",
       "      <td>Twitter and Non-Elites: Interpreting Power Dyn...</td>\n",
       "      <td>In May 2013 and March 2015, actress Angelina J...</td>\n",
       "      <td>2017</td>\n",
       "      <td>Social Media + Society</td>\n",
       "    </tr>\n",
       "    <tr>\n",
       "      <th>3</th>\n",
       "      <td>10.1177/2056305120949268</td>\n",
       "      <td>1</td>\n",
       "      <td>False</td>\n",
       "      <td>False</td>\n",
       "      <td>False</td>\n",
       "      <td>“Mischievous Uncles” as Rule Breakers: Interse...</td>\n",
       "      <td>Responses to crises can highlight and exacerba...</td>\n",
       "      <td>2020</td>\n",
       "      <td>Social Media + Society</td>\n",
       "    </tr>\n",
       "    <tr>\n",
       "      <th>4</th>\n",
       "      <td>10.1177/2056305119898778</td>\n",
       "      <td>17</td>\n",
       "      <td>False</td>\n",
       "      <td>False</td>\n",
       "      <td>False</td>\n",
       "      <td>Building Social Media Observatories for Monito...</td>\n",
       "      <td>Social media house a trove of relevant informa...</td>\n",
       "      <td>2020</td>\n",
       "      <td>Social Media + Society</td>\n",
       "    </tr>\n",
       "  </tbody>\n",
       "</table>\n",
       "</div>"
      ],
      "text/plain": [
       "                         doi  times_cited  is_highlycited  is_highlycited2  \\\n",
       "0  10.1177/20563051221138753            9           False            False   \n",
       "1  10.1177/20563051221138758            4           False            False   \n",
       "2   10.1177/2056305117733224           32            True             True   \n",
       "3   10.1177/2056305120949268            1           False            False   \n",
       "4   10.1177/2056305119898778           17           False            False   \n",
       "\n",
       "   is_highlycited3                                              title  \\\n",
       "0            False  Discursive Strategies of Blaming: The Language...   \n",
       "1            False  Hate Speech in a Telegram Conspiracy Channel D...   \n",
       "2             True  Twitter and Non-Elites: Interpreting Power Dyn...   \n",
       "3            False  “Mischievous Uncles” as Rule Breakers: Interse...   \n",
       "4            False  Building Social Media Observatories for Monito...   \n",
       "\n",
       "                                            abstract  year  \\\n",
       "0  Modern politics is permeated by blame games-sy...  2022   \n",
       "1  Research has explored how the COVID-19 pandemi...  2022   \n",
       "2  In May 2013 and March 2015, actress Angelina J...  2017   \n",
       "3  Responses to crises can highlight and exacerba...  2020   \n",
       "4  Social media house a trove of relevant informa...  2020   \n",
       "\n",
       "            journal.title  \n",
       "0  Social Media + Society  \n",
       "1  Social Media + Society  \n",
       "2  Social Media + Society  \n",
       "3  Social Media + Society  \n",
       "4  Social Media + Society  "
      ]
     },
     "execution_count": 52,
     "metadata": {},
     "output_type": "execute_result"
    }
   ],
   "source": [
    "df_full.head()"
   ]
  },
  {
   "cell_type": "code",
   "execution_count": 54,
   "id": "671dab4d-1700-4c5e-b1c8-a907e8220205",
   "metadata": {},
   "outputs": [],
   "source": [
    "df_full.to_csv('article_with_citation.csv')"
   ]
  }
 ],
 "metadata": {
  "kernelspec": {
   "display_name": "Python 3 (ipykernel)",
   "language": "python",
   "name": "python3"
  },
  "language_info": {
   "codemirror_mode": {
    "name": "ipython",
    "version": 3
   },
   "file_extension": ".py",
   "mimetype": "text/x-python",
   "name": "python",
   "nbconvert_exporter": "python",
   "pygments_lexer": "ipython3",
   "version": "3.9.18"
  }
 },
 "nbformat": 4,
 "nbformat_minor": 5
}

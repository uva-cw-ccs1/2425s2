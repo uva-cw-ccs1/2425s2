{
 "cells": [
  {
   "cell_type": "code",
   "execution_count": 1,
   "id": "rational-brunei",
   "metadata": {},
   "outputs": [],
   "source": [
    "#import the necessary module\n",
    "import pandas as pd"
   ]
  },
  {
   "cell_type": "code",
   "execution_count": 4,
   "id": "embedded-hardware",
   "metadata": {},
   "outputs": [],
   "source": [
    "donations = pd.read_pickle('NGO_donations.pkl')"
   ]
  },
  {
   "cell_type": "code",
   "execution_count": 6,
   "id": "febeffce-3a04-4c10-95c1-8f61a8774005",
   "metadata": {},
   "outputs": [],
   "source": [
    "sessions = pd.read_pickle('NGO_sessions.pkl')"
   ]
  },
  {
   "cell_type": "code",
   "execution_count": null,
   "id": "dc02ae48-f265-479e-9150-463135e7390a",
   "metadata": {},
   "outputs": [],
   "source": []
  }
 ],
 "metadata": {
  "interpreter": {
   "hash": "aee8b7b246df8f9039afb4144a1f6fd8d2ca17a180786b69acc140d282b71a49"
  },
  "kernelspec": {
   "display_name": "Python 3 (ipykernel)",
   "language": "python",
   "name": "python3"
  },
  "language_info": {
   "codemirror_mode": {
    "name": "ipython",
    "version": 3
   },
   "file_extension": ".py",
   "mimetype": "text/x-python",
   "name": "python",
   "nbconvert_exporter": "python",
   "pygments_lexer": "ipython3",
   "version": "3.8.18"
  }
 },
 "nbformat": 4,
 "nbformat_minor": 5
}

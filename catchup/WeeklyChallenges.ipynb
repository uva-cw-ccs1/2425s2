{
 "cells": [
  {
   "cell_type": "markdown",
   "metadata": {},
   "source": [
    "### Programming challenge\n",
    "\n",
    "Below you have a list of visitors of a website, and in particular their referral (where they came from). Imagine that this list of referrals to the website of a news organization is provided by Google Analytics. Create a function that categorizes the visitors according to some interesting set of categories (for example, campaigns vs other sources)\n"
   ]
  },
  {
   "cell_type": "code",
   "execution_count": null,
   "metadata": {},
   "outputs": [],
   "source": [
    "visitors = ['campaign utx=9902',\n",
    "             'instagram app',\n",
    "             'facebook app',\n",
    "             'campaign utx=1389',\n",
    "             'facebook app',\n",
    "             'google search',\n",
    "             'newsletter',\n",
    "             'facebook app',\n",
    "             'newsletter',\n",
    "             'campaign utx=9902',\n",
    "             'instagram app',\n",
    "             'campaign utx=1389',\n",
    "             'newsletter',\n",
    "             'facebook.com',\n",
    "             'facebook app',\n",
    "             'newsletter',\n",
    "             'google search',\n",
    "             'campaign utx=9902',\n",
    "             'campaign utx=9902',\n",
    "             'instagram app',\n",
    "             'organic',\n",
    "             'instagram app',\n",
    "             'news campaign 9902',\n",
    "             'instagram app',\n",
    "             'facebook app',\n",
    "             'facebook.com',\n",
    "             'campaign utx=9902',\n",
    "             'campaign utx=9902',\n",
    "             'campaign utx=1389',\n",
    "             'campaign utx=1389',\n",
    "             'facebook.com',\n",
    "             'news campaign 9902',\n",
    "             'newsletter',\n",
    "             'instagram app',\n",
    "             'instagram app',\n",
    "             'campaign utx=1389',\n",
    "             'direct',\n",
    "             'facebook.com',\n",
    "             'newsletter',\n",
    "             'direct',\n",
    "             'campaign utx=1389',\n",
    "             'direct',\n",
    "             'organic',\n",
    "             'facebook.com',\n",
    "             'facebook.com',\n",
    "             'facebook app',\n",
    "             'campaign utx=9902',\n",
    "             'google search',\n",
    "             'campaign utx=9902',\n",
    "             'campaign utx=1389']"
   ]
  },
  {
   "cell_type": "code",
   "execution_count": null,
   "metadata": {},
   "outputs": [],
   "source": [
    "def check_visitors(x):\n",
    "    # Include your code here. Make sure to include something after return, \n",
    "    # so the function returns the information needed.\n",
    "    \n",
    "   \n",
    "    return"
   ]
  },
  {
   "cell_type": "code",
   "execution_count": null,
   "metadata": {},
   "outputs": [],
   "source": []
  },
  {
   "cell_type": "code",
   "execution_count": null,
   "metadata": {},
   "outputs": [],
   "source": []
  }
 ],
 "metadata": {
  "kernelspec": {
   "display_name": "Python 3 (ipykernel)",
   "language": "python",
   "name": "python3"
  },
  "language_info": {
   "codemirror_mode": {
    "name": "ipython",
    "version": 3
   },
   "file_extension": ".py",
   "mimetype": "text/x-python",
   "name": "python",
   "nbconvert_exporter": "python",
   "pygments_lexer": "ipython3",
   "version": "3.8.18"
  }
 },
 "nbformat": 4,
 "nbformat_minor": 4
}

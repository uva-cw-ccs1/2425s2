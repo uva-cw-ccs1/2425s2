{
 "cells": [
  {
   "cell_type": "markdown",
   "metadata": {},
   "source": [
    "# In-class assignment 2\n",
    "\n",
    "Student name:\n",
    "\n",
    "Student number:\n",
    "\n",
    "Now that you have learned about Pandas and basics of data anlysis, we will ask you to apply them in this assignment.\n",
    "\n",
    "* You are allowed to use your study materials (e.g., slides, literature, notebooks, solutions to weekly challenges) during the assignment. You are not allowed to use external sources.\n",
    "* It is strictly forbidden to communicate with other students during the examination.\n",
    "* When you are finished, double-check whether you answered all questions before uploading the assignment.\n",
    "* Carefully read the instructions and questions in this notebook!\n",
    "\n",
    "General instructions for answering the questions. Please read the instructions carefully:\n",
    "\n",
    "* This assignment consists of a Jupyter Notebook with 2 questions. Read all the questions carefully. Make sure you save the notebook locally before starting to answer the questions. Rename this file according to the following structure: \n",
    "LastName_Surname_StudentID_Coursename\n",
    "* Fill in your name and student number in the indicated space.\n",
    "* To answer the questions, write your answers in this notebook where indicated. Note that you can create as many code and markdown cells as you need.\n",
    "* Answer all questions and check upon completion if you really addressed all (sub-)questions.\n",
    "* Use correct and complete sentences. Poorly or unclearly formulated answers will not be graded.\n",
    "* Make sure to answer all questions in your own words.\n",
    "* Do not provide any irrelevant information. If you provide more answers than instructed, only your first answer will be graded. If your correct answer also includes incorrect or irrelevant elements, these will lead to deduction of points.\n",
    "* You can obtain a maximum of 10 points. The points you can obtain for each question are provided at the respective question.\n",
    "\n",
    "Submission instructions:\n",
    "\n",
    "* Please upload the html version of the notebook on Canvas. \n",
    "* To do so, when the assignment is fully finished (and all the code executed), in Jupyter Lab, select File --> Export Notebook As --> Export Notebook to HTML. An html file will be generated (and probably downloaded to your Downloads folder). Upload this html file to Canvas. This file will be also used for the plagiarism check.\n",
    "* Make sure that the html file is names according to the following structure: \n",
    "LastName_Surname_StudentID_Coursename.html\n",
    "* If you cannot generate an HTML version from your Notebook (if the option disappeared), upload a PDF instead to Canvas. Please tell your lecturer about it.\n",
    "\n",
    "Good luck!\n",
    "\n",
    "\n",
    "# General scenario\n",
    "\n",
    "Together with this assignment, you received a file `horeca.csv`. This file contains some statistics on the hospitality sector in Amsterdam and was collected by the municipality of Amsterdam.\n",
    "\n",
    "\n",
    "Imagine that you work at the Research and Statistics department of the municipality. Your boss asks you:\n",
    "\n",
    "> Inspect the dataset. I am interetsed in the relationship between city part and number of employees. \n",
    "> Make an appropriate visualisation and show me some descriptives."
   ]
  },
  {
   "cell_type": "markdown",
   "metadata": {},
   "source": [
    "## Task 1: Inspect the structure of the data frame and make a plan (2 points)\n",
    "\n",
    "First, import the data and get a generic overview about what variables you have at your disposal. Make sure to at least check how the dataset looks like, what columns it has, what data type these columns have and what information they give you. \n",
    "\n",
    "Once you have a feel for the dataset, write a short plan in which you outline what you will analyze to prepare the report."
   ]
  },
  {
   "cell_type": "code",
   "execution_count": 1,
   "metadata": {},
   "outputs": [],
   "source": [
    "# your code here\n",
    "\n",
    "import pandas as pd"
   ]
  },
  {
   "cell_type": "code",
   "execution_count": null,
   "metadata": {},
   "outputs": [],
   "source": [
    "# Load the data\n",
    "df = pd.read_csv('horeca.csv')"
   ]
  },
  {
   "cell_type": "code",
   "execution_count": null,
   "metadata": {},
   "outputs": [
    {
     "data": {
      "text/html": [
       "<div>\n",
       "<style scoped>\n",
       "    .dataframe tbody tr th:only-of-type {\n",
       "        vertical-align: middle;\n",
       "    }\n",
       "\n",
       "    .dataframe tbody tr th {\n",
       "        vertical-align: top;\n",
       "    }\n",
       "\n",
       "    .dataframe thead th {\n",
       "        text-align: right;\n",
       "    }\n",
       "</style>\n",
       "<table border=\"1\" class=\"dataframe\">\n",
       "  <thead>\n",
       "    <tr style=\"text-align: right;\">\n",
       "      <th></th>\n",
       "      <th>year</th>\n",
       "      <th>category_code</th>\n",
       "      <th>category_description</th>\n",
       "      <th>citypart_code</th>\n",
       "      <th>citypart_name</th>\n",
       "      <th>branches_total</th>\n",
       "      <th>branches_12visitorsplus</th>\n",
       "      <th>employees</th>\n",
       "    </tr>\n",
       "  </thead>\n",
       "  <tbody>\n",
       "    <tr>\n",
       "      <th>0</th>\n",
       "      <td>2018</td>\n",
       "      <td>0</td>\n",
       "      <td>rental holiday accomodations</td>\n",
       "      <td>A</td>\n",
       "      <td>Centrum</td>\n",
       "      <td>20</td>\n",
       "      <td>15</td>\n",
       "      <td>40</td>\n",
       "    </tr>\n",
       "    <tr>\n",
       "      <th>1</th>\n",
       "      <td>2018</td>\n",
       "      <td>0</td>\n",
       "      <td>rental holiday accomodations</td>\n",
       "      <td>E</td>\n",
       "      <td>West</td>\n",
       "      <td>5</td>\n",
       "      <td>5</td>\n",
       "      <td>5</td>\n",
       "    </tr>\n",
       "    <tr>\n",
       "      <th>2</th>\n",
       "      <td>2018</td>\n",
       "      <td>0</td>\n",
       "      <td>rental holiday accomodations</td>\n",
       "      <td>F</td>\n",
       "      <td>Nieuw-West</td>\n",
       "      <td>5</td>\n",
       "      <td>0</td>\n",
       "      <td>5</td>\n",
       "    </tr>\n",
       "    <tr>\n",
       "      <th>3</th>\n",
       "      <td>2018</td>\n",
       "      <td>0</td>\n",
       "      <td>rental holiday accomodations</td>\n",
       "      <td>K</td>\n",
       "      <td>Zuid</td>\n",
       "      <td>10</td>\n",
       "      <td>5</td>\n",
       "      <td>15</td>\n",
       "    </tr>\n",
       "    <tr>\n",
       "      <th>4</th>\n",
       "      <td>2018</td>\n",
       "      <td>0</td>\n",
       "      <td>rental holiday accomodations</td>\n",
       "      <td>M</td>\n",
       "      <td>Oost</td>\n",
       "      <td>5</td>\n",
       "      <td>0</td>\n",
       "      <td>5</td>\n",
       "    </tr>\n",
       "  </tbody>\n",
       "</table>\n",
       "</div>"
      ],
      "text/plain": [
       "   year  category_code          category_description citypart_code  \\\n",
       "0  2018              0  rental holiday accomodations             A   \n",
       "1  2018              0  rental holiday accomodations             E   \n",
       "2  2018              0  rental holiday accomodations             F   \n",
       "3  2018              0  rental holiday accomodations             K   \n",
       "4  2018              0  rental holiday accomodations             M   \n",
       "\n",
       "  citypart_name  branches_total  branches_12visitorsplus  employees  \n",
       "0       Centrum              20                       15         40  \n",
       "1          West               5                        5          5  \n",
       "2    Nieuw-West               5                        0          5  \n",
       "3          Zuid              10                        5         15  \n",
       "4          Oost               5                        0          5  "
      ]
     },
     "execution_count": 3,
     "metadata": {},
     "output_type": "execute_result"
    }
   ],
   "source": [
    "# Display the first 5 rows\n",
    "df.head()"
   ]
  },
  {
   "cell_type": "code",
   "execution_count": null,
   "metadata": {},
   "outputs": [
    {
     "data": {
      "text/plain": [
       "Index(['year', 'category_code', 'category_description', 'citypart_code',\n",
       "       'citypart_name', 'branches_total', 'branches_12visitorsplus',\n",
       "       'employees'],\n",
       "      dtype='object')"
      ]
     },
     "execution_count": 6,
     "metadata": {},
     "output_type": "execute_result"
    }
   ],
   "source": [
    "# Display column names\n",
    "df.columns "
   ]
  },
  {
   "cell_type": "code",
   "execution_count": 18,
   "metadata": {},
   "outputs": [
    {
     "data": {
      "text/plain": [
       "year                        int64\n",
       "category_code               int64\n",
       "category_description       object\n",
       "citypart_code              object\n",
       "citypart_name              object\n",
       "branches_total              int64\n",
       "branches_12visitorsplus     int64\n",
       "employees                   int64\n",
       "dtype: object"
      ]
     },
     "execution_count": 18,
     "metadata": {},
     "output_type": "execute_result"
    }
   ],
   "source": [
    "#Display dtypes\n",
    "# citypart is of type object and employees is of type int64\n",
    "df.dtypes"
   ]
  },
  {
   "cell_type": "code",
   "execution_count": 17,
   "metadata": {},
   "outputs": [
    {
     "data": {
      "text/plain": [
       "year                       0\n",
       "category_code              0\n",
       "category_description       0\n",
       "citypart_code              0\n",
       "citypart_name              0\n",
       "branches_total             0\n",
       "branches_12visitorsplus    0\n",
       "employees                  0\n",
       "dtype: int64"
      ]
     },
     "execution_count": 17,
     "metadata": {},
     "output_type": "execute_result"
    }
   ],
   "source": [
    "# Display the number of missing values in each column\n",
    "# There are two missing values in the column citypart\n",
    "df.isna().sum()"
   ]
  },
  {
   "cell_type": "markdown",
   "metadata": {},
   "source": [
    "It looks like the datastet has eight columns. For analysing the relationship between city part and number of employees I need the columns Citypart name or code and employees. I will take the following steps\n",
    "1. If necessary, deal with missing values and wrong data types\n",
    "2. Descriptive statistics for citypart (value_counts) and employees (mean,SD)\n",
    "3. Descriptive statistics of employees grouped by the city part\n",
    "4. Univariate visualisations for both variables\n",
    "5. Bivariate visualtions"
   ]
  },
  {
   "cell_type": "markdown",
   "metadata": {},
   "source": [
    "## Task 2: The report (8 points)\n",
    "Create a nicely formatted report with code, graphs, tables and/or statistics, and Markdown Cells with explanations. For formatting of your answer, consider using headers (by starting the Markdown Cell with `###` for instance), bullet points etc.\n",
    "\n",
    "*Note*: for the report make sure to include all the elements mentioned in task 1."
   ]
  },
  {
   "cell_type": "markdown",
   "metadata": {},
   "source": []
  },
  {
   "cell_type": "markdown",
   "metadata": {},
   "source": [
    "*report starts here*"
   ]
  },
  {
   "cell_type": "code",
   "execution_count": 10,
   "metadata": {},
   "outputs": [],
   "source": [
    "#As I need to have cityparts for the analysis, I will drop the rows with missing values\n",
    "df = df.dropna(subset=['citypart_name'])"
   ]
  },
  {
   "cell_type": "code",
   "execution_count": null,
   "metadata": {},
   "outputs": [
    {
     "data": {
      "text/plain": [
       "year                       0\n",
       "category_code              0\n",
       "category_description       0\n",
       "citypart_code              0\n",
       "citypart_name              0\n",
       "branches_total             0\n",
       "branches_12visitorsplus    0\n",
       "employees                  0\n",
       "dtype: int64"
      ]
     },
     "execution_count": 11,
     "metadata": {},
     "output_type": "execute_result"
    }
   ],
   "source": [
    "#Checking if dropna worked\n",
    "df.isna().sum()"
   ]
  },
  {
   "cell_type": "markdown",
   "metadata": {},
   "source": [
    "Data cleaning and preparation is done, now I can start the report\n",
    "\n",
    "# Describing the data\n",
    "\n",
    "## City districts"
   ]
  },
  {
   "cell_type": "code",
   "execution_count": null,
   "metadata": {},
   "outputs": [
    {
     "data": {
      "text/plain": [
       "Centrum       40\n",
       "West          40\n",
       "Nieuw-West    40\n",
       "Zuid          40\n",
       "Oost          40\n",
       "Noord         40\n",
       "Zuidoost      40\n",
       "Westpoort     26\n",
       "Weesp         16\n",
       "Name: citypart_name, dtype: int64"
      ]
     },
     "execution_count": 12,
     "metadata": {},
     "output_type": "execute_result"
    }
   ],
   "source": [
    "#Checking the number of unique values in the column citypart_name\n",
    "#There are 9 different city parts\n",
    "df['citypart_name'].value_counts()"
   ]
  },
  {
   "cell_type": "markdown",
   "metadata": {},
   "source": [
    "There are 9 districts included in the dataset. In most of them, there are 40 hospitality businesses, while in Westerpoort there are 26 and in Weest only 16.\n",
    "\n",
    "## Employees in the hospitality business"
   ]
  },
  {
   "cell_type": "code",
   "execution_count": null,
   "metadata": {},
   "outputs": [
    {
     "data": {
      "text/plain": [
       "count     322.000000\n",
       "mean      856.133540\n",
       "std      1507.444157\n",
       "min         0.000000\n",
       "25%        21.250000\n",
       "50%       312.500000\n",
       "75%       902.500000\n",
       "max      8405.000000\n",
       "Name: employees, dtype: float64"
      ]
     },
     "execution_count": 13,
     "metadata": {},
     "output_type": "execute_result"
    }
   ],
   "source": [
    "#Descriptive statistics for the column employees\n",
    "df['employees'].describe()"
   ]
  },
  {
   "cell_type": "markdown",
   "metadata": {},
   "source": [
    "On average, each hospitality business employs 856 individuals (*SD* = 1507). This indicates that the number of employees is highly variable.\n",
    "\n",
    "## Hospitality work in each district"
   ]
  },
  {
   "cell_type": "code",
   "execution_count": 14,
   "metadata": {},
   "outputs": [
    {
     "data": {
      "text/html": [
       "<div>\n",
       "<style scoped>\n",
       "    .dataframe tbody tr th:only-of-type {\n",
       "        vertical-align: middle;\n",
       "    }\n",
       "\n",
       "    .dataframe tbody tr th {\n",
       "        vertical-align: top;\n",
       "    }\n",
       "\n",
       "    .dataframe thead th {\n",
       "        text-align: right;\n",
       "    }\n",
       "</style>\n",
       "<table border=\"1\" class=\"dataframe\">\n",
       "  <thead>\n",
       "    <tr style=\"text-align: right;\">\n",
       "      <th></th>\n",
       "      <th>count</th>\n",
       "      <th>mean</th>\n",
       "      <th>std</th>\n",
       "      <th>min</th>\n",
       "      <th>25%</th>\n",
       "      <th>50%</th>\n",
       "      <th>75%</th>\n",
       "      <th>max</th>\n",
       "    </tr>\n",
       "    <tr>\n",
       "      <th>citypart_name</th>\n",
       "      <th></th>\n",
       "      <th></th>\n",
       "      <th></th>\n",
       "      <th></th>\n",
       "      <th></th>\n",
       "      <th></th>\n",
       "      <th></th>\n",
       "      <th></th>\n",
       "    </tr>\n",
       "  </thead>\n",
       "  <tbody>\n",
       "    <tr>\n",
       "      <th>Centrum</th>\n",
       "      <td>40.0</td>\n",
       "      <td>2738.500000</td>\n",
       "      <td>2960.533606</td>\n",
       "      <td>20.0</td>\n",
       "      <td>85.00</td>\n",
       "      <td>1495.0</td>\n",
       "      <td>5160.00</td>\n",
       "      <td>8405.0</td>\n",
       "    </tr>\n",
       "    <tr>\n",
       "      <th>Nieuw-West</th>\n",
       "      <td>40.0</td>\n",
       "      <td>367.125000</td>\n",
       "      <td>324.860695</td>\n",
       "      <td>5.0</td>\n",
       "      <td>30.00</td>\n",
       "      <td>300.0</td>\n",
       "      <td>672.50</td>\n",
       "      <td>905.0</td>\n",
       "    </tr>\n",
       "    <tr>\n",
       "      <th>Noord</th>\n",
       "      <td>40.0</td>\n",
       "      <td>333.625000</td>\n",
       "      <td>305.486135</td>\n",
       "      <td>5.0</td>\n",
       "      <td>20.00</td>\n",
       "      <td>370.0</td>\n",
       "      <td>522.50</td>\n",
       "      <td>1110.0</td>\n",
       "    </tr>\n",
       "    <tr>\n",
       "      <th>Oost</th>\n",
       "      <td>40.0</td>\n",
       "      <td>606.375000</td>\n",
       "      <td>530.751750</td>\n",
       "      <td>5.0</td>\n",
       "      <td>80.00</td>\n",
       "      <td>610.0</td>\n",
       "      <td>898.75</td>\n",
       "      <td>1825.0</td>\n",
       "    </tr>\n",
       "    <tr>\n",
       "      <th>Weesp</th>\n",
       "      <td>16.0</td>\n",
       "      <td>3.750000</td>\n",
       "      <td>11.180340</td>\n",
       "      <td>0.0</td>\n",
       "      <td>0.00</td>\n",
       "      <td>0.0</td>\n",
       "      <td>1.25</td>\n",
       "      <td>45.0</td>\n",
       "    </tr>\n",
       "    <tr>\n",
       "      <th>West</th>\n",
       "      <td>40.0</td>\n",
       "      <td>710.250000</td>\n",
       "      <td>600.274456</td>\n",
       "      <td>5.0</td>\n",
       "      <td>81.25</td>\n",
       "      <td>842.5</td>\n",
       "      <td>1078.75</td>\n",
       "      <td>2010.0</td>\n",
       "    </tr>\n",
       "    <tr>\n",
       "      <th>Westpoort</th>\n",
       "      <td>26.0</td>\n",
       "      <td>58.846154</td>\n",
       "      <td>63.770019</td>\n",
       "      <td>0.0</td>\n",
       "      <td>10.00</td>\n",
       "      <td>22.5</td>\n",
       "      <td>83.75</td>\n",
       "      <td>215.0</td>\n",
       "    </tr>\n",
       "    <tr>\n",
       "      <th>Zuid</th>\n",
       "      <td>40.0</td>\n",
       "      <td>1254.250000</td>\n",
       "      <td>1366.613609</td>\n",
       "      <td>10.0</td>\n",
       "      <td>60.00</td>\n",
       "      <td>997.5</td>\n",
       "      <td>1803.75</td>\n",
       "      <td>4290.0</td>\n",
       "    </tr>\n",
       "    <tr>\n",
       "      <th>Zuidoost</th>\n",
       "      <td>40.0</td>\n",
       "      <td>842.000000</td>\n",
       "      <td>1448.347777</td>\n",
       "      <td>0.0</td>\n",
       "      <td>15.00</td>\n",
       "      <td>247.5</td>\n",
       "      <td>781.25</td>\n",
       "      <td>5105.0</td>\n",
       "    </tr>\n",
       "  </tbody>\n",
       "</table>\n",
       "</div>"
      ],
      "text/plain": [
       "               count         mean          std   min    25%     50%      75%  \\\n",
       "citypart_name                                                                  \n",
       "Centrum         40.0  2738.500000  2960.533606  20.0  85.00  1495.0  5160.00   \n",
       "Nieuw-West      40.0   367.125000   324.860695   5.0  30.00   300.0   672.50   \n",
       "Noord           40.0   333.625000   305.486135   5.0  20.00   370.0   522.50   \n",
       "Oost            40.0   606.375000   530.751750   5.0  80.00   610.0   898.75   \n",
       "Weesp           16.0     3.750000    11.180340   0.0   0.00     0.0     1.25   \n",
       "West            40.0   710.250000   600.274456   5.0  81.25   842.5  1078.75   \n",
       "Westpoort       26.0    58.846154    63.770019   0.0  10.00    22.5    83.75   \n",
       "Zuid            40.0  1254.250000  1366.613609  10.0  60.00   997.5  1803.75   \n",
       "Zuidoost        40.0   842.000000  1448.347777   0.0  15.00   247.5   781.25   \n",
       "\n",
       "                  max  \n",
       "citypart_name          \n",
       "Centrum        8405.0  \n",
       "Nieuw-West      905.0  \n",
       "Noord          1110.0  \n",
       "Oost           1825.0  \n",
       "Weesp            45.0  \n",
       "West           2010.0  \n",
       "Westpoort       215.0  \n",
       "Zuid           4290.0  \n",
       "Zuidoost       5105.0  "
      ]
     },
     "execution_count": 14,
     "metadata": {},
     "output_type": "execute_result"
    }
   ],
   "source": [
    "df.groupby('citypart_name')['employees'].describe()"
   ]
  },
  {
   "cell_type": "markdown",
   "metadata": {},
   "source": [
    "It seems that the average number of employees in a business differs substantially per district. City center has the largest businesses when it comes to the number of employees, while Weest has the smallest businesses on average. "
   ]
  },
  {
   "cell_type": "code",
   "execution_count": 15,
   "metadata": {},
   "outputs": [],
   "source": [
    "import seaborn as sns\n",
    "import matplotlib.pyplot as plt"
   ]
  },
  {
   "cell_type": "code",
   "execution_count": null,
   "metadata": {},
   "outputs": [
    {
     "data": {
      "text/plain": [
       "(array([0, 1, 2, 3, 4, 5, 6, 7, 8]),\n",
       " [Text(0, 0, 'Centrum'),\n",
       "  Text(1, 0, 'West'),\n",
       "  Text(2, 0, 'Nieuw-West'),\n",
       "  Text(3, 0, 'Zuid'),\n",
       "  Text(4, 0, 'Oost'),\n",
       "  Text(5, 0, 'Noord'),\n",
       "  Text(6, 0, 'Zuidoost'),\n",
       "  Text(7, 0, 'Weesp'),\n",
       "  Text(8, 0, 'Westpoort')])"
      ]
     },
     "execution_count": 22,
     "metadata": {},
     "output_type": "execute_result"
    },
    {
     "data": {
      "image/png": "[encoded data removed]",
      "text/plain": [
       "<Figure size 640x480 with 1 Axes>"
      ]
     },
     "metadata": {},
     "output_type": "display_data"
    }
   ],
   "source": [
    "# Boxplot\n",
    "sns.countplot(x='citypart_name', data=df)\n",
    "plt.xticks(rotation=90)"
   ]
  },
  {
   "cell_type": "markdown",
   "metadata": {},
   "source": [
    "The graph above shows the distribution of hospitality business across the city. It highlights the large difference between Weest, Westerpoort and other disctricts."
   ]
  },
  {
   "cell_type": "code",
   "execution_count": null,
   "metadata": {},
   "outputs": [
    {
     "data": {
      "text/plain": [
       "<AxesSubplot:xlabel='employees', ylabel='Count'>"
      ]
     },
     "execution_count": 23,
     "metadata": {},
     "output_type": "execute_result"
    },
    {
     "data": {
      "image/png": "[encoded data removed]",
      "text/plain": [
       "<Figure size 640x480 with 1 Axes>"
      ]
     },
     "metadata": {},
     "output_type": "display_data"
    }
   ],
   "source": [
    "# Histogram\n",
    "sns.histplot(x = 'employees', data=df)\n"
   ]
  },
  {
   "cell_type": "markdown",
   "metadata": {},
   "source": [
    "The histogram shows that the number of employees is right-skewed, with most of the values concentrated on the left side of the distribution."
   ]
  },
  {
   "cell_type": "code",
   "execution_count": null,
   "metadata": {},
   "outputs": [
    {
     "data": {
      "image/png": "[encoded data removed]",
      "text/plain": [
       "<Figure size 640x480 with 1 Axes>"
      ]
     },
     "metadata": {},
     "output_type": "display_data"
    }
   ],
   "source": [
    "#\n",
    "sns.boxplot(x='citypart_name', y='employees', data=df)\n",
    "plt.title('Number of Employees by City Part')\n",
    "plt.xlabel('City Part')\n",
    "plt.ylabel('Number of Employees')\n",
    "plt.xticks(rotation=45)\n",
    "plt.show()"
   ]
  },
  {
   "cell_type": "markdown",
   "metadata": {},
   "source": [
    " The boxplot shows the distribution of the number of employees across different city parts. The city part with the highest average number of employees per business is \"Centrum\" followed by \"Zuid\". The city part with the lowest average number of employees is \"Weesp.\""
   ]
  },
  {
   "cell_type": "markdown",
   "metadata": {},
   "source": []
  }
 ],
 "metadata": {
  "kernelspec": {
   "display_name": "Python 3",
   "language": "python",
   "name": "python3"
  },
  "language_info": {
   "codemirror_mode": {
    "name": "ipython",
    "version": 3
   },
   "file_extension": ".py",
   "mimetype": "text/x-python",
   "name": "python",
   "nbconvert_exporter": "python",
   "pygments_lexer": "ipython3",
   "version": "3.9.1"
  }
 },
 "nbformat": 4,
 "nbformat_minor": 4
}

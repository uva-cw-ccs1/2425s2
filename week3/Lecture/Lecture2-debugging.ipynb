{
 "cells": [
  {
   "cell_type": "markdown",
   "id": "24ab2583",
   "metadata": {},
   "source": [
    "# Handling errors\n",
    "\n",
    "In order to make errors your friends, avoid getting stuck and use them to improve and further your code, try to understand:\n",
    "* What is the *type* of error you are getting?\n",
    "* *Where* is this error happening? "
   ]
  },
  {
   "cell_type": "code",
   "execution_count": 17,
   "id": "a8ce2f6f",
   "metadata": {},
   "outputs": [],
   "source": [
    "import pandas as pd\n",
    "\n",
    "df = pd.read_csv('Example_shop_data_wrong.csv')"
   ]
  },
  {
   "cell_type": "code",
   "execution_count": 20,
   "id": "1205cb00",
   "metadata": {},
   "outputs": [],
   "source": [
    "from guizero import App, Text"
   ]
  },
  {
   "cell_type": "code",
   "execution_count": 21,
   "id": "91bfa6ee",
   "metadata": {},
   "outputs": [
    {
     "name": "stdout",
     "output_type": "stream",
     "text": [
      "Requirement already satisfied: guizero in /Users/justin/miniforge3/lib/python3.9/site-packages (1.6.0)\n"
     ]
    }
   ],
   "source": [
    "!pip install guizero"
   ]
  },
  {
   "cell_type": "code",
   "execution_count": 23,
   "id": "ace3a6d0",
   "metadata": {},
   "outputs": [
    {
     "name": "stdout",
     "output_type": "stream",
     "text": [
      "a < b\n"
     ]
    }
   ],
   "source": [
    "a = 1\n",
    "b = 1000000\n",
    "\n",
    "if a > b: \n",
    "    print('a > b')\n",
    "elif a < b: \n",
    "    print('a < b')\n",
    "elif a == b: \n",
    "    print('a == b')"
   ]
  },
  {
   "cell_type": "code",
   "execution_count": null,
   "id": "e1eb2487",
   "metadata": {},
   "outputs": [],
   "source": []
  },
  {
   "cell_type": "code",
   "execution_count": 26,
   "id": "32b25ce6",
   "metadata": {},
   "outputs": [
    {
     "data": {
      "text/plain": [
       "[5]"
      ]
     },
     "execution_count": 26,
     "metadata": {},
     "output_type": "execute_result"
    }
   ],
   "source": [
    "x = [5]\n",
    "list(x)"
   ]
  },
  {
   "cell_type": "code",
   "execution_count": null,
   "id": "4ac7ca2b",
   "metadata": {},
   "outputs": [],
   "source": []
  },
  {
   "cell_type": "code",
   "execution_count": null,
   "id": "672ba55a",
   "metadata": {},
   "outputs": [],
   "source": []
  },
  {
   "cell_type": "code",
   "execution_count": 27,
   "id": "5bd4a0eb",
   "metadata": {},
   "outputs": [],
   "source": [
    "tweets=['Microsoft flying high in BI & Analytics - Based on Gartner Research #DigitalTransformation #digital #intelligence #BI #AI #crm #erp https://t.co/34CiKD7GKi',\n",
    "       'CustomerDevoted,\"Sentiment analysis in the age of Digital Transformation | #BigData #Analytics #RT https://t.co/zGmXGMpz6k by #Ronald_vanLoon https://t.co/vTjLsmbarr',\n",
    "       'Eyeview Digital - Manager, Client Analytics - Chicago  #tech #Manager #Client #Analytics #Chicago https://t.co/9aBzOfrZ6n',\n",
    "       'Leading Digital Marketing Company Eminent Infoweb Introduces Web Analytics Services https://t.co/iI0tSXu00n',\n",
    "       'RT @JimMarous: Top Areas of #Martech Investments  #DigitalMarketing #socialmedia #Marketing #analytics #digital #CX… https://t.co/AlGzTjW5qB', None,\n",
    "       'Leading Digital Marketing Company Eminent Infoweb Introduces Web Analytics Services https://t.co/GYkbyxJnyC',\n",
    "       '#sprkyfeed Loom Systems Helps Digital Businesses Solve Issues Through AI-Powered Operational Analytics ... https://t.co/luweP17Efo #AI']"
   ]
  },
  {
   "cell_type": "code",
   "execution_count": 34,
   "id": "367317f6",
   "metadata": {},
   "outputs": [],
   "source": [
    "def count_hashtag(text):\n",
    "    print(text)\n",
    "    counter = 0\n",
    "    try:\n",
    "        for char in text:\n",
    "            print(char)\n",
    "            if char == '#':\n",
    "                counter += 1\n",
    "    except:\n",
    "        return 0\n",
    "    return counter"
   ]
  },
  {
   "cell_type": "code",
   "execution_count": 30,
   "id": "a4a884e5",
   "metadata": {},
   "outputs": [
    {
     "name": "stdout",
     "output_type": "stream",
     "text": [
      "CustomerDevoted,\"#Sentiment #analysis in the age of Digital Transformation | #BigData\n"
     ]
    },
    {
     "data": {
      "text/plain": [
       "3"
      ]
     },
     "execution_count": 30,
     "metadata": {},
     "output_type": "execute_result"
    }
   ],
   "source": [
    "count_hashtag('CustomerDevoted,\"#Sentiment #analysis in the age of Digital Transformation | #BigData')"
   ]
  },
  {
   "cell_type": "code",
   "execution_count": null,
   "id": "a09a22ae",
   "metadata": {},
   "outputs": [],
   "source": [
    "counts = []\n",
    "for tweet in tweets:\n",
    "    counts.append(count_hashtag(tweet))"
   ]
  },
  {
   "cell_type": "code",
   "execution_count": 37,
   "id": "c9421bb7-2b36-4750-9c34-12ebe7574cb8",
   "metadata": {},
   "outputs": [
    {
     "data": {
      "text/plain": [
       "[7, 4, 5, 0, 7, 0, 0, 2]"
      ]
     },
     "execution_count": 37,
     "metadata": {},
     "output_type": "execute_result"
    }
   ],
   "source": [
    "counts"
   ]
  },
  {
   "cell_type": "code",
   "execution_count": null,
   "id": "c4d9d569",
   "metadata": {},
   "outputs": [],
   "source": [
    "counts = [count_hashtag(tweet) for tweet in tweets]"
   ]
  },
  {
   "cell_type": "code",
   "execution_count": 41,
   "id": "43909a43",
   "metadata": {},
   "outputs": [
    {
     "data": {
      "text/plain": [
       "[7, 4, 5, 0, 7, 0, 0, 2]"
      ]
     },
     "execution_count": 41,
     "metadata": {},
     "output_type": "execute_result"
    }
   ],
   "source": [
    "counts"
   ]
  }
 ],
 "metadata": {
  "kernelspec": {
   "display_name": "Python 3 (ipykernel)",
   "language": "python",
   "name": "python3"
  },
  "language_info": {
   "codemirror_mode": {
    "name": "ipython",
    "version": 3
   },
   "file_extension": ".py",
   "mimetype": "text/x-python",
   "name": "python",
   "nbconvert_exporter": "python",
   "pygments_lexer": "ipython3",
   "version": "3.9.18"
  }
 },
 "nbformat": 4,
 "nbformat_minor": 5
}

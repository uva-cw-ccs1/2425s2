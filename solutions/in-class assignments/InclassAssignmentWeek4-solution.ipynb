{
 "cells": [
  {
   "cell_type": "markdown",
   "metadata": {},
   "source": [
    "### In-class assignment 2\n",
    "\n",
    "Student name:\n",
    "\n",
    "Student number:\n",
    "\n",
    "Now that you have learned how to define and apply your own functions in Python, we will ask you to work with functions in this assignment. The assignment will test your understanding and application of functions.\n",
    "\n",
    "* You are allowed to use your study materials (e.g., slides, literature, notebooks, solutions to weekly challenges) during the assignment. You are not allowed to use external sources.\n",
    "* It is strictly forbidden to communicate with other students during the examination.\n",
    "* When you are finished, double-check whether you answered all questions before uploading the assignment.\n",
    "* Carefully read the instructions and questions in this notebook!\n",
    "\n",
    "General instructions for answering the questions. Please read the instructions carefully:\n",
    "\n",
    "* This assignment consists of a Jupyter Notebook with 2 questions, including sub-questions (1, 2, 3). Read all the questions carefully. Make sure you save the notebook locally before starting to answer the questions. Rename this file according to the following structure: \n",
    "LastName_Surname_StudentID_Coursename\n",
    "* Fill in your name and student number in the indicated space.\n",
    "* To answer the questions, write your answers in this notebook where indicated. Note that you can create as many code and markdown cells as you need.\n",
    "* Answer all questions and check upon completion if you really addressed all (sub-)questions.\n",
    "* Use correct and complete sentences. Poorly or unclearly formulated answers will not be graded.\n",
    "* Make sure to answer all questions in your own words.\n",
    "* Do not provide any irrelevant information. If you provide more answers than instructed, only your first answer will be graded. If your correct answer also includes incorrect or irrelevant elements, these will lead to deduction of points.\n",
    "* You can obtain a maximum of 10 points. The points you can obtain for each question are provided at the respective question.\n",
    "\n",
    "Submission instructions:\n",
    "\n",
    "* Please upload the html version of the notebook on Canvas. \n",
    "* To do so, when the assignment is fully finished (and all the code executed), in Jupyter Lab, select File --> Export Notebook As --> Export Notebook to HTML. An html file will be generated (and probably downloaded to your Downloads folder). Upload this html file to Canvas. This file will be also used for the plagiarism check.\n",
    "* Make sure that the html file is names according to the following structure: \n",
    "LastName_Surname_StudentID_Coursename.html\n",
    "* If you cannot generate an HTML version from your Notebook (if the option disappeared), upload the notebook file instead to Canvas. Please tell your lecturer about it.\n",
    "\n",
    "The assignment consists of two programming tasks.\n",
    "\n",
    "Good luck!\n"
   ]
  },
  {
   "cell_type": "markdown",
   "metadata": {},
   "source": [
    "### Task 1 (5 points)\n",
    "\n",
    "The list below contains the categories of a list of articles."
   ]
  },
  {
   "cell_type": "code",
   "execution_count": 1,
   "metadata": {},
   "outputs": [],
   "source": [
    "articles = ['World News', 'sports', 'entertainment', 'local news', 'local news', 'entertainment', 'World News', \n",
    "            'World News', 'World News', 'entertainment', 'sports', 'local news', 'entertainment', 'sports']"
   ]
  },
  {
   "cell_type": "markdown",
   "metadata": {},
   "source": [
    "Write a function that categorizes the items into `News` and `Not News`. Fill in the blanks in the function below to make it work (3 points). \n",
    "\n",
    "Comment each line of code to explain what it does (eg using #)"
   ]
  },
  {
   "cell_type": "code",
   "execution_count": null,
   "metadata": {
    "scrolled": true
   },
   "outputs": [],
   "source": [
    "#Fill in the blanks in the function below \n",
    "#Make sure to replace _____ in blanks with code\n",
    "\n",
    "def categorizenews(article): #function to categorize news, takes in string as input\n",
    "    if 'news' in article.lower(): #if news is in the article\n",
    "       return 'news'#return news\n",
    "    else: #if news is not in the article\n",
    "       return 'not news' #return not news"
   ]
  },
  {
   "cell_type": "markdown",
   "metadata": {},
   "source": [
    "#### Task 1.2\n",
    "\n",
    "Apply the function to the list `articles` by looping over it and printing the result for every element of the list. (2 points)\n"
   ]
  },
  {
   "cell_type": "code",
   "execution_count": 3,
   "metadata": {},
   "outputs": [
    {
     "name": "stdout",
     "output_type": "stream",
     "text": [
      "World News news\n",
      "sports not news\n",
      "entertainment not news\n",
      "local news news\n",
      "local news news\n",
      "entertainment not news\n",
      "World News news\n",
      "World News news\n",
      "World News news\n",
      "entertainment not news\n",
      "sports not news\n",
      "local news news\n",
      "entertainment not news\n",
      "sports not news\n"
     ]
    }
   ],
   "source": [
    "# Your code goes here\n",
    "\n",
    "for article in articles: #for each article in the list of articles\n",
    "    print(article, categorizenews(article)) #print the article and the category of the article\n"
   ]
  },
  {
   "cell_type": "markdown",
   "metadata": {},
   "source": [
    "### Task 2 (5 points)\n",
    "\n",
    "The dictionary below contains information on visitors of a website. \n",
    "\n",
    "The keys are user ids, values show lenghts of their visits, 0 indicates that they did not visited the website."
   ]
  },
  {
   "cell_type": "code",
   "execution_count": 4,
   "metadata": {},
   "outputs": [],
   "source": [
    "visits = {\n",
    "    \"user1\": [89, 135, 217, 376],\n",
    "    \"user2\": [272, 56, 279, 460, 201, 83, 135],\n",
    "    \"user3\": [78, 467, 382],\n",
    "    \"user4\": [233, 177, 361, 176],\n",
    "    \"user5\": [369, 58],\n",
    "    \"user6\": [330, 388, 434, 478, 245],\n",
    "    \"user7\": 0,\n",
    "    \"user8\": [264, 122, 216, 342],\n",
    "    \"user9\": [316, 385, 412, 497],\n",
    "    \"user10\": [38, 86, 152, 126, 368],\n",
    "    \"user11\": [268, 468, 396],\n",
    "    \"user12\": [417, 226, 494, 58],\n",
    "    \"user13\": [146, 201, 402],\n",
    "    \"user14\": 0,\n",
    "    \"user15\": [361, 393, 197, 441]}\n"
   ]
  },
  {
   "cell_type": "markdown",
   "metadata": {},
   "source": [
    "Below is a function that categorizes users as heavy (visited at least 5 times) and light (visited less than 5 times). It returns an error."
   ]
  },
  {
   "cell_type": "code",
   "execution_count": 5,
   "metadata": {},
   "outputs": [
    {
     "name": "stdout",
     "output_type": "stream",
     "text": [
      "user1 is a light user\n",
      "user2 is a heavy user\n",
      "user3 is a light user\n",
      "user4 is a light user\n",
      "user5 is a light user\n",
      "user6 is a heavy user\n"
     ]
    },
    {
     "ename": "TypeError",
     "evalue": "object of type 'int' has no len()",
     "output_type": "error",
     "traceback": [
      "\u001b[0;31m---------------------------------------------------------------------------\u001b[0m",
      "\u001b[0;31mTypeError\u001b[0m                                 Traceback (most recent call last)",
      "Cell \u001b[0;32mIn[5], line 8\u001b[0m\n\u001b[1;32m      5\u001b[0m         \u001b[38;5;28;01mreturn\u001b[39;00m \u001b[38;5;124m'\u001b[39m\u001b[38;5;124mlight user\u001b[39m\u001b[38;5;124m'\u001b[39m\n\u001b[1;32m      7\u001b[0m \u001b[38;5;28;01mfor\u001b[39;00m key, value \u001b[38;5;129;01min\u001b[39;00m visits\u001b[38;5;241m.\u001b[39mitems():\n\u001b[0;32m----> 8\u001b[0m     \u001b[38;5;28mprint\u001b[39m(key, \u001b[38;5;124m'\u001b[39m\u001b[38;5;124mis a\u001b[39m\u001b[38;5;124m'\u001b[39m, \u001b[43mcat_users\u001b[49m\u001b[43m(\u001b[49m\u001b[43mvalue\u001b[49m\u001b[43m)\u001b[49m)\n",
      "Cell \u001b[0;32mIn[5], line 2\u001b[0m, in \u001b[0;36mcat_users\u001b[0;34m(hello_kitty)\u001b[0m\n\u001b[1;32m      1\u001b[0m \u001b[38;5;28;01mdef\u001b[39;00m \u001b[38;5;21mcat_users\u001b[39m(hello_kitty):\n\u001b[0;32m----> 2\u001b[0m     \u001b[38;5;28;01mif\u001b[39;00m \u001b[38;5;28;43mlen\u001b[39;49m\u001b[43m(\u001b[49m\u001b[43mhello_kitty\u001b[49m\u001b[43m)\u001b[49m \u001b[38;5;241m>\u001b[39m\u001b[38;5;241m=\u001b[39m \u001b[38;5;241m5\u001b[39m:\n\u001b[1;32m      3\u001b[0m         \u001b[38;5;28;01mreturn\u001b[39;00m \u001b[38;5;124m'\u001b[39m\u001b[38;5;124mheavy user\u001b[39m\u001b[38;5;124m'\u001b[39m\n\u001b[1;32m      4\u001b[0m     \u001b[38;5;28;01mif\u001b[39;00m \u001b[38;5;28mlen\u001b[39m(hello_kitty) \u001b[38;5;241m<\u001b[39m \u001b[38;5;241m5\u001b[39m:\n",
      "\u001b[0;31mTypeError\u001b[0m: object of type 'int' has no len()"
     ]
    }
   ],
   "source": [
    "def cat_users(hello_kitty):\n",
    "    if len(hello_kitty) >= 5:\n",
    "        return 'heavy user'\n",
    "    if len(hello_kitty) < 5:\n",
    "        return 'light user'\n",
    "\n",
    "for key, value in visits.items():\n",
    "    print(key, 'is a', cat_users(value))"
   ]
  },
  {
   "cell_type": "markdown",
   "metadata": {},
   "source": [
    "Why it does not work? Explain the traceback (2 points):"
   ]
  },
  {
   "cell_type": "markdown",
   "metadata": {},
   "source": [
    "`(Write your answer here)`"
   ]
  },
  {
   "cell_type": "markdown",
   "metadata": {},
   "source": [
    "Now debug it (3 points):"
   ]
  },
  {
   "cell_type": "code",
   "execution_count": null,
   "metadata": {},
   "outputs": [
    {
     "name": "stdout",
     "output_type": "stream",
     "text": [
      "user1 is a light user\n",
      "user2 is a heavy user\n",
      "user3 is a light user\n",
      "user4 is a light user\n",
      "user5 is a light user\n",
      "user6 is a heavy user\n",
      "user7 is a no visits\n",
      "user8 is a light user\n",
      "user9 is a light user\n",
      "user10 is a heavy user\n",
      "user11 is a light user\n",
      "user12 is a light user\n",
      "user13 is a light user\n",
      "user14 is a no visits\n",
      "user15 is a light user\n"
     ]
    }
   ],
   "source": [
    "# Write the debugged codes here\n",
    "\n",
    "def cat_users(user): #function to categorize users, takes in list as input\n",
    "    if user == 0:  # if the user did not visit the website\n",
    "        return 'no visits' #return no visits\n",
    "    if len(user) >= 5: #if the user visited the website at least 5 times\n",
    "        return 'heavy user' #return heavy user\n",
    "    if len(user) < 5: #if the user visited the website less than 5 times\n",
    "        return 'light user'#return light user\n",
    "\n",
    "for key, value in visits.items(): #for each user in the dictionary of visits\n",
    "    print(key, 'is a', cat_users(value)) #print the user and the category of the user\n",
    "\n"
   ]
  },
  {
   "cell_type": "code",
   "execution_count": null,
   "metadata": {},
   "outputs": [],
   "source": []
  }
 ],
 "metadata": {
  "kernelspec": {
   "display_name": "Python 3",
   "language": "python",
   "name": "python3"
  },
  "language_info": {
   "codemirror_mode": {
    "name": "ipython",
    "version": 3
   },
   "file_extension": ".py",
   "mimetype": "text/x-python",
   "name": "python",
   "nbconvert_exporter": "python",
   "pygments_lexer": "ipython3",
   "version": "3.9.1"
  }
 },
 "nbformat": 4,
 "nbformat_minor": 4
}

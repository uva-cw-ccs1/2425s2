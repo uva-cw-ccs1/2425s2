{
 "cells": [
  {
   "cell_type": "code",
   "execution_count": null,
   "id": "convertible-majority",
   "metadata": {},
   "outputs": [],
   "source": [
    "import time # allows us to do interesting things with time objects and the passage of time\n",
    "import json #allows us to interact with json objects (which is what a lot of APIs communciate in)\n",
    "import requests #allows us to make so-called http requests, i.e. the same thing you do whenever you launch facebook in a broswer\n",
    "import pandas as pd"
   ]
  },
  {
   "cell_type": "markdown",
   "id": "preliminary-contents",
   "metadata": {
    "tags": []
   },
   "source": [
    "# Basic APIs - cat facts!"
   ]
  },
  {
   "cell_type": "code",
   "execution_count": null,
   "id": "fatal-conversion",
   "metadata": {},
   "outputs": [],
   "source": [
    "data = requests.get('https://catfact.ninja/fact')"
   ]
  },
  {
   "cell_type": "code",
   "execution_count": null,
   "id": "treated-bacon",
   "metadata": {},
   "outputs": [],
   "source": [
    "data"
   ]
  },
  {
   "cell_type": "code",
   "execution_count": null,
   "id": "italic-links",
   "metadata": {},
   "outputs": [],
   "source": [
    "data.json()"
   ]
  },
  {
   "cell_type": "code",
   "execution_count": null,
   "id": "finite-possible",
   "metadata": {},
   "outputs": [],
   "source": [
    "#To get multiple facts, we can use our Python knowledge from previous weeks \n",
    "counter=0\n",
    "cats=[]\n",
    "while counter<30:\n",
    "    data = requests.get('https://catfact.ninja/fact')\n",
    "    cats.append(data.json())\n",
    "    counter+=1"
   ]
  },
  {
   "cell_type": "code",
   "execution_count": null,
   "id": "3a5d6e13",
   "metadata": {},
   "outputs": [],
   "source": [
    "cats"
   ]
  },
  {
   "cell_type": "code",
   "execution_count": null,
   "id": "a9e8e1b6",
   "metadata": {},
   "outputs": [],
   "source": [
    "#What did we get?\n",
    "cats_df = pd.DataFrame.from_dict(cats)"
   ]
  },
  {
   "cell_type": "code",
   "execution_count": null,
   "id": "e514b129",
   "metadata": {},
   "outputs": [],
   "source": [
    "cats_df"
   ]
  },
  {
   "cell_type": "markdown",
   "id": "6bd03533-9b29-4dae-bc12-122788c642e9",
   "metadata": {
    "slideshow": {
     "slide_type": "slide"
    },
    "tags": []
   },
   "source": [
    "# Google Books API\n",
    "\n",
    "You could try this in any browser: [https://www.googleapis.com/books/v1/volumes?q=isbn:9780261102217](https://www.googleapis.com/books/v1/volumes?q=isbn:9780261102217)\n",
    "\n",
    "But how do we know how to use it? Read the [documentation](https://developers.google.com/books/docs/v1/using#PerformingSearch)!"
   ]
  },
  {
   "cell_type": "code",
   "execution_count": null,
   "id": "f1fd981a-5ac8-431f-a8d1-bd5e39f51946",
   "metadata": {
    "slideshow": {
     "slide_type": "slide"
    }
   },
   "outputs": [],
   "source": [
    "# A better way to do this\n",
    "\n",
    "query = \"https://www.googleapis.com/books/v1/volumes?q=hobbit\"\n",
    "\n",
    "# send a request and get a JSON response\n",
    "data = requests.get(query)\n",
    "# parse JSON into Python as a dictionary\n",
    "book_data = data.json()"
   ]
  },
  {
   "cell_type": "code",
   "execution_count": null,
   "id": "a3ee7b21-8db2-48a1-b1ac-de50edc456d6",
   "metadata": {},
   "outputs": [],
   "source": [
    "book_data['items'][1]"
   ]
  },
  {
   "cell_type": "code",
   "execution_count": null,
   "id": "473df665-af3e-449b-af46-9bd54c8a5966",
   "metadata": {},
   "outputs": [],
   "source": [
    "book_data[\"items\"][0][\"volumeInfo\"]['title']"
   ]
  },
  {
   "cell_type": "code",
   "execution_count": null,
   "id": "9bffb8e3-04f2-4266-8dca-7e6128c33b50",
   "metadata": {
    "slideshow": {
     "slide_type": "slide"
    }
   },
   "outputs": [],
   "source": [
    "volume_info = book_data[\"items\"][0][\"volumeInfo\"]\n",
    "\n",
    "print('Title: ' + volume_info['title'])\n",
    "print('Author: ' + str(volume_info['authors']))\n",
    "print('Publication Date: ' + volume_info['publishedDate'])"
   ]
  },
  {
   "cell_type": "markdown",
   "id": "vertical-viewer",
   "metadata": {},
   "source": [
    "# The Guardian API"
   ]
  },
  {
   "cell_type": "code",
   "execution_count": null,
   "id": "interesting-morrison",
   "metadata": {},
   "outputs": [],
   "source": [
    "#writing own function to query API\n",
    "#https://towardsdatascience.com/discovering-powerful-data-the-guardian-news-api-into-python-for-nlp-1829b568fb0f\n",
    "\n",
    "def query_api(tag, page, from_date, api_key):\n",
    "    \"\"\"\n",
    "    Function to query the API for a particular tag\n",
    "    returns: a response from API\n",
    "    \"\"\"\n",
    "    response = requests.get(\"https://content.guardianapis.com/search?tag=\"\n",
    "                            + tag + \"&from-date=\" + from_date \n",
    "                            +\"&page=\" + str(page) + \"&page-size=200&api-key=\" + api_key)\n",
    "    return response\n",
    "\n",
    "response = query_api('money/energy', '1', '2022-03-01', 'e723ffce-dfd5-427e-b9b8-779f5efedb02')\n",
    "data = response.json()"
   ]
  },
  {
   "cell_type": "code",
   "execution_count": null,
   "id": "0c10db07",
   "metadata": {},
   "outputs": [],
   "source": [
    "data"
   ]
  },
  {
   "cell_type": "code",
   "execution_count": null,
   "id": "9dc3ddec",
   "metadata": {},
   "outputs": [],
   "source": [
    "#How do we get the data structured?\n",
    "\n",
    "news_df = pd.DataFrame.from_dict(data['response']['results'])"
   ]
  },
  {
   "cell_type": "code",
   "execution_count": null,
   "id": "aadba32c",
   "metadata": {},
   "outputs": [],
   "source": [
    "news_df"
   ]
  }
 ],
 "metadata": {
  "interpreter": {
   "hash": "aee8b7b246df8f9039afb4144a1f6fd8d2ca17a180786b69acc140d282b71a49"
  },
  "kernelspec": {
   "display_name": "Python 3 (ipykernel)",
   "language": "python",
   "name": "python3"
  },
  "language_info": {
   "codemirror_mode": {
    "name": "ipython",
    "version": 3
   },
   "file_extension": ".py",
   "mimetype": "text/x-python",
   "name": "python",
   "nbconvert_exporter": "python",
   "pygments_lexer": "ipython3",
   "version": "3.9.18"
  }
 },
 "nbformat": 4,
 "nbformat_minor": 5
}

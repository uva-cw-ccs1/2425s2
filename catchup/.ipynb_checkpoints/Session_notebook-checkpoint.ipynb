{
 "cells": [
  {
   "cell_type": "code",
   "execution_count": 2,
   "id": "rational-brunei",
   "metadata": {},
   "outputs": [],
   "source": [
    "#import the necessary module\n",
    "import pandas as pd"
   ]
  },
  {
   "cell_type": "code",
   "execution_count": 3,
   "id": "embedded-hardware",
   "metadata": {},
   "outputs": [],
   "source": [
    "donations = pd.read_pickle('/Users/jstrych1/Documents/Digital_Analytics/2425s2_Joanna/catch-up/NGO_donations.pkl')"
   ]
  },
  {
   "cell_type": "code",
   "execution_count": null,
   "id": "dd45ea3b-d4b8-4a3a-8bbc-a50f9bc7af40",
   "metadata": {},
   "outputs": [],
   "source": []
  },
  {
   "cell_type": "code",
   "execution_count": 4,
   "id": "acknowledged-facility",
   "metadata": {},
   "outputs": [],
   "source": [
    "sessions = pd.read_pickle('NGO_sessions.pkl')"
   ]
  },
  {
   "cell_type": "code",
   "execution_count": null,
   "id": "nearby-monday",
   "metadata": {},
   "outputs": [],
   "source": []
  }
 ],
 "metadata": {
  "interpreter": {
   "hash": "aee8b7b246df8f9039afb4144a1f6fd8d2ca17a180786b69acc140d282b71a49"
  },
  "kernelspec": {
   "display_name": "Python 3 (ipykernel)",
   "language": "python",
   "name": "python3"
  },
  "language_info": {
   "codemirror_mode": {
    "name": "ipython",
    "version": 3
   },
   "file_extension": ".py",
   "mimetype": "text/x-python",
   "name": "python",
   "nbconvert_exporter": "python",
   "pygments_lexer": "ipython3",
   "version": "3.8.18"
  }
 },
 "nbformat": 4,
 "nbformat_minor": 5
}
